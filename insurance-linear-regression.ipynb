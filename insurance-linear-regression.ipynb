{
 "cells": [
  {
   "cell_type": "markdown",
   "metadata": {
    "_cell_guid": "b1076dfc-b9ad-4769-8c92-a6c4dae69d19",
    "_uuid": "8f2839f25d086af736a60e9eeb907d3b93b6e0e5",
    "colab_type": "text",
    "id": "fumXHZ4wg67k"
   },
   "source": [
    "# Insurance cost prediction using linear regression\n",
    "\n",
    "In this assignment we're going to use information like a person's age, sex, BMI, no. of children and smoking habit to predict the price of yearly medical bills. This kind of model is useful for insurance companies to determine the yearly insurance premium for a person. The dataset for this problem is taken from: https://www.kaggle.com/mirichoi0218/insurance\n",
    "\n",
    "\n",
    "We will create a model with the following steps:\n",
    "1. Download and explore the dataset\n",
    "2. Prepare the dataset for training\n",
    "3. Create a linear regression model\n",
    "4. Train the model to fit the data\n",
    "5. Make predictions using the trained model\n",
    "\n",
    "\n",
    "This assignment builds upon the concepts from the first 2 lectures. It will help to review these Jupyter notebooks:\n",
    "- PyTorch basics: https://jovian.ml/aakashns/01-pytorch-basics\n",
    "- Linear Regression: https://jovian.ml/aakashns/02-linear-regression\n",
    "- Logistic Regression: https://jovian.ml/aakashns/03-logistic-regression\n",
    "- Linear regression (minimal): https://jovian.ml/aakashns/housing-linear-minimal\n",
    "- Logistic regression (minimal): https://jovian.ml/aakashns/mnist-logistic-minimal\n",
    "\n",
    "As you go through this notebook, you will find a **???** in certain places. Your job is to replace the **???** with appropriate code or values, to ensure that the notebook runs properly end-to-end . In some cases, you'll be required to choose some hyperparameters (learning rate, batch size etc.). Try to experiment with the hypeparameters to get the lowest loss.\n"
   ]
  },
  {
   "cell_type": "code",
   "execution_count": 20,
   "metadata": {
    "colab": {},
    "colab_type": "code",
    "id": "_KXkwT1dg67m"
   },
   "outputs": [],
   "source": [
    "# Uncomment and run the commands below if imports fail\n",
    "# !conda install numpy pytorch torchvision cpuonly -c pytorch -y\n",
    "# !pip install matplotlib --upgrade --quiet\n",
    "# !pip install jovian --upgrade --quiet\n",
    "# !pip install pandas"
   ]
  },
  {
   "cell_type": "code",
   "execution_count": 21,
   "metadata": {
    "colab": {},
    "colab_type": "code",
    "id": "FeOVEVAmg67w"
   },
   "outputs": [],
   "source": [
    "import torch\n",
    "import jovian\n",
    "import torchvision\n",
    "import torch.nn as nn\n",
    "import pandas as pd\n",
    "import matplotlib.pyplot as plt\n",
    "import torch.nn.functional as F\n",
    "from torchvision.datasets.utils import download_url\n",
    "from torch.utils.data import DataLoader, TensorDataset, random_split"
   ]
  },
  {
   "cell_type": "code",
   "execution_count": 22,
   "metadata": {
    "colab": {},
    "colab_type": "code",
    "id": "7o6q2pTdg677"
   },
   "outputs": [],
   "source": [
    "project_name='02-insurance-linear-regression' # will be used by jovian.commit"
   ]
  },
  {
   "cell_type": "markdown",
   "metadata": {
    "colab_type": "text",
    "id": "MachFkqrg68C"
   },
   "source": [
    "## Step 1: Download and explore the data\n",
    "\n",
    "Let us begin by downloading the data. We'll use the `download_url` function from PyTorch to get the data as a CSV (comma-separated values) file. "
   ]
  },
  {
   "cell_type": "code",
   "execution_count": 23,
   "metadata": {
    "_cell_guid": "79c7e3d0-c299-4dcb-8224-4455121ee9b0",
    "_uuid": "d629ff2d2480ee46fbb7e2d37f6b5fab8052498a",
    "colab": {
     "base_uri": "https://localhost:8080/",
     "height": 35
    },
    "colab_type": "code",
    "executionInfo": {
     "elapsed": 12935,
     "status": "ok",
     "timestamp": 1590919719793,
     "user": {
      "displayName": "San Sequeira",
      "photoUrl": "https://lh3.googleusercontent.com/a-/AOh14Gi8U-ajiW3O50jfGXl-ZWVxnF6YFijFWtNiId0=s64",
      "userId": "16413449616003649474"
     },
     "user_tz": -330
    },
    "id": "2moAIDhrg68D",
    "outputId": "ea464839-69d5-4288-f75b-c3ea30019cf8"
   },
   "outputs": [
    {
     "name": "stdout",
     "output_type": "stream",
     "text": [
      "Using downloaded and verified file: ./insurance.csv\n"
     ]
    }
   ],
   "source": [
    "DATASET_URL = \"https://hub.jovian.ml/wp-content/uploads/2020/05/insurance.csv\"\n",
    "DATA_FILENAME = \"insurance.csv\"\n",
    "download_url(DATASET_URL, '.')"
   ]
  },
  {
   "cell_type": "markdown",
   "metadata": {
    "colab_type": "text",
    "id": "7OWNbHeJg68K"
   },
   "source": [
    "To load the dataset into memory, we'll use the `read_csv` function from the `pandas` library. The data will be loaded as a Pandas dataframe. See this short tutorial to learn more: https://data36.com/pandas-tutorial-1-basics-reading-data-files-dataframes-data-selection/"
   ]
  },
  {
   "cell_type": "code",
   "execution_count": 24,
   "metadata": {
    "colab": {
     "base_uri": "https://localhost:8080/",
     "height": 206
    },
    "colab_type": "code",
    "executionInfo": {
     "elapsed": 12917,
     "status": "ok",
     "timestamp": 1590919719795,
     "user": {
      "displayName": "San Sequeira",
      "photoUrl": "https://lh3.googleusercontent.com/a-/AOh14Gi8U-ajiW3O50jfGXl-ZWVxnF6YFijFWtNiId0=s64",
      "userId": "16413449616003649474"
     },
     "user_tz": -330
    },
    "id": "KJXIHSFCg68L",
    "outputId": "b75463c9-c225-4a51-c725-0262e9603188"
   },
   "outputs": [
    {
     "data": {
      "text/html": [
       "<div>\n",
       "<style scoped>\n",
       "    .dataframe tbody tr th:only-of-type {\n",
       "        vertical-align: middle;\n",
       "    }\n",
       "\n",
       "    .dataframe tbody tr th {\n",
       "        vertical-align: top;\n",
       "    }\n",
       "\n",
       "    .dataframe thead th {\n",
       "        text-align: right;\n",
       "    }\n",
       "</style>\n",
       "<table border=\"1\" class=\"dataframe\">\n",
       "  <thead>\n",
       "    <tr style=\"text-align: right;\">\n",
       "      <th></th>\n",
       "      <th>age</th>\n",
       "      <th>sex</th>\n",
       "      <th>bmi</th>\n",
       "      <th>children</th>\n",
       "      <th>smoker</th>\n",
       "      <th>region</th>\n",
       "      <th>charges</th>\n",
       "    </tr>\n",
       "  </thead>\n",
       "  <tbody>\n",
       "    <tr>\n",
       "      <th>0</th>\n",
       "      <td>19</td>\n",
       "      <td>female</td>\n",
       "      <td>27.900</td>\n",
       "      <td>0</td>\n",
       "      <td>yes</td>\n",
       "      <td>southwest</td>\n",
       "      <td>16884.92400</td>\n",
       "    </tr>\n",
       "    <tr>\n",
       "      <th>1</th>\n",
       "      <td>18</td>\n",
       "      <td>male</td>\n",
       "      <td>33.770</td>\n",
       "      <td>1</td>\n",
       "      <td>no</td>\n",
       "      <td>southeast</td>\n",
       "      <td>1725.55230</td>\n",
       "    </tr>\n",
       "    <tr>\n",
       "      <th>2</th>\n",
       "      <td>28</td>\n",
       "      <td>male</td>\n",
       "      <td>33.000</td>\n",
       "      <td>3</td>\n",
       "      <td>no</td>\n",
       "      <td>southeast</td>\n",
       "      <td>4449.46200</td>\n",
       "    </tr>\n",
       "    <tr>\n",
       "      <th>3</th>\n",
       "      <td>33</td>\n",
       "      <td>male</td>\n",
       "      <td>22.705</td>\n",
       "      <td>0</td>\n",
       "      <td>no</td>\n",
       "      <td>northwest</td>\n",
       "      <td>21984.47061</td>\n",
       "    </tr>\n",
       "    <tr>\n",
       "      <th>4</th>\n",
       "      <td>32</td>\n",
       "      <td>male</td>\n",
       "      <td>28.880</td>\n",
       "      <td>0</td>\n",
       "      <td>no</td>\n",
       "      <td>northwest</td>\n",
       "      <td>3866.85520</td>\n",
       "    </tr>\n",
       "  </tbody>\n",
       "</table>\n",
       "</div>"
      ],
      "text/plain": [
       "   age     sex     bmi  children smoker     region      charges\n",
       "0   19  female  27.900         0    yes  southwest  16884.92400\n",
       "1   18    male  33.770         1     no  southeast   1725.55230\n",
       "2   28    male  33.000         3     no  southeast   4449.46200\n",
       "3   33    male  22.705         0     no  northwest  21984.47061\n",
       "4   32    male  28.880         0     no  northwest   3866.85520"
      ]
     },
     "execution_count": 24,
     "metadata": {},
     "output_type": "execute_result"
    }
   ],
   "source": [
    "dataframe_raw = pd.read_csv(DATA_FILENAME)\n",
    "dataframe_raw.head()"
   ]
  },
  {
   "cell_type": "markdown",
   "metadata": {
    "colab_type": "text",
    "id": "6KaezaCTg68S"
   },
   "source": [
    "We're going to do a slight customization of the data, so that you every participant receives a slightly different version of the dataset. Fill in your name below as a string (enter at least 5 characters)"
   ]
  },
  {
   "cell_type": "code",
   "execution_count": 25,
   "metadata": {
    "colab": {},
    "colab_type": "code",
    "id": "7LOrB5bCg68S"
   },
   "outputs": [],
   "source": [
    "your_name = 'sansqra' # at least 5 characters"
   ]
  },
  {
   "cell_type": "markdown",
   "metadata": {
    "colab_type": "text",
    "id": "0NJCxhjxg68Y"
   },
   "source": [
    "The `customize_dataset` function will customize the dataset slightly using your name as a source of random numbers."
   ]
  },
  {
   "cell_type": "code",
   "execution_count": 26,
   "metadata": {
    "colab": {},
    "colab_type": "code",
    "id": "-CEONo3fg68a"
   },
   "outputs": [],
   "source": [
    "def customize_dataset(dataframe_raw, rand_str):\n",
    "    dataframe = dataframe_raw.copy(deep=True)\n",
    "    # drop some rows\n",
    "    dataframe = dataframe.sample(int(0.95*len(dataframe)), random_state=int(ord(rand_str[0])))\n",
    "    # scale input\n",
    "    dataframe.bmi = dataframe.bmi * ord(rand_str[1])/100.\n",
    "    # scale target\n",
    "    dataframe.charges = dataframe.charges * ord(rand_str[2])/100.\n",
    "    # drop column\n",
    "    if ord(rand_str[3]) % 2 == 1:\n",
    "        dataframe = dataframe.drop(['region'], axis=1)\n",
    "    return dataframe"
   ]
  },
  {
   "cell_type": "code",
   "execution_count": 27,
   "metadata": {
    "colab": {
     "base_uri": "https://localhost:8080/",
     "height": 206
    },
    "colab_type": "code",
    "executionInfo": {
     "elapsed": 12882,
     "status": "ok",
     "timestamp": 1590919719803,
     "user": {
      "displayName": "San Sequeira",
      "photoUrl": "https://lh3.googleusercontent.com/a-/AOh14Gi8U-ajiW3O50jfGXl-ZWVxnF6YFijFWtNiId0=s64",
      "userId": "16413449616003649474"
     },
     "user_tz": -330
    },
    "id": "oC3N4ysgg68g",
    "outputId": "e6760171-d062-43e2-a0e6-9efbefa19812"
   },
   "outputs": [
    {
     "data": {
      "text/html": [
       "<div>\n",
       "<style scoped>\n",
       "    .dataframe tbody tr th:only-of-type {\n",
       "        vertical-align: middle;\n",
       "    }\n",
       "\n",
       "    .dataframe tbody tr th {\n",
       "        vertical-align: top;\n",
       "    }\n",
       "\n",
       "    .dataframe thead th {\n",
       "        text-align: right;\n",
       "    }\n",
       "</style>\n",
       "<table border=\"1\" class=\"dataframe\">\n",
       "  <thead>\n",
       "    <tr style=\"text-align: right;\">\n",
       "      <th></th>\n",
       "      <th>age</th>\n",
       "      <th>sex</th>\n",
       "      <th>bmi</th>\n",
       "      <th>children</th>\n",
       "      <th>smoker</th>\n",
       "      <th>charges</th>\n",
       "    </tr>\n",
       "  </thead>\n",
       "  <tbody>\n",
       "    <tr>\n",
       "      <th>1178</th>\n",
       "      <td>23</td>\n",
       "      <td>female</td>\n",
       "      <td>33.81905</td>\n",
       "      <td>0</td>\n",
       "      <td>no</td>\n",
       "      <td>3189.438285</td>\n",
       "    </tr>\n",
       "    <tr>\n",
       "      <th>1295</th>\n",
       "      <td>20</td>\n",
       "      <td>male</td>\n",
       "      <td>21.34000</td>\n",
       "      <td>1</td>\n",
       "      <td>no</td>\n",
       "      <td>2161.258000</td>\n",
       "    </tr>\n",
       "    <tr>\n",
       "      <th>205</th>\n",
       "      <td>28</td>\n",
       "      <td>female</td>\n",
       "      <td>28.01360</td>\n",
       "      <td>1</td>\n",
       "      <td>no</td>\n",
       "      <td>4771.508720</td>\n",
       "    </tr>\n",
       "    <tr>\n",
       "      <th>1067</th>\n",
       "      <td>39</td>\n",
       "      <td>male</td>\n",
       "      <td>41.37535</td>\n",
       "      <td>0</td>\n",
       "      <td>no</td>\n",
       "      <td>6333.154795</td>\n",
       "    </tr>\n",
       "    <tr>\n",
       "      <th>523</th>\n",
       "      <td>38</td>\n",
       "      <td>female</td>\n",
       "      <td>36.59810</td>\n",
       "      <td>0</td>\n",
       "      <td>no</td>\n",
       "      <td>5937.378370</td>\n",
       "    </tr>\n",
       "  </tbody>\n",
       "</table>\n",
       "</div>"
      ],
      "text/plain": [
       "      age     sex       bmi  children smoker      charges\n",
       "1178   23  female  33.81905         0     no  3189.438285\n",
       "1295   20    male  21.34000         1     no  2161.258000\n",
       "205    28  female  28.01360         1     no  4771.508720\n",
       "1067   39    male  41.37535         0     no  6333.154795\n",
       "523    38  female  36.59810         0     no  5937.378370"
      ]
     },
     "execution_count": 27,
     "metadata": {},
     "output_type": "execute_result"
    }
   ],
   "source": [
    "dataframe = customize_dataset(dataframe_raw, your_name)\n",
    "dataframe.head()"
   ]
  },
  {
   "cell_type": "markdown",
   "metadata": {
    "colab_type": "text",
    "id": "7Jp1Tac3g68o"
   },
   "source": [
    "Let us answer some basic questions about the dataset. \n",
    "\n",
    "\n",
    "**Q: How many rows does the dataset have?**"
   ]
  },
  {
   "cell_type": "code",
   "execution_count": 28,
   "metadata": {
    "colab": {
     "base_uri": "https://localhost:8080/",
     "height": 35
    },
    "colab_type": "code",
    "executionInfo": {
     "elapsed": 12866,
     "status": "ok",
     "timestamp": 1590919719807,
     "user": {
      "displayName": "San Sequeira",
      "photoUrl": "https://lh3.googleusercontent.com/a-/AOh14Gi8U-ajiW3O50jfGXl-ZWVxnF6YFijFWtNiId0=s64",
      "userId": "16413449616003649474"
     },
     "user_tz": -330
    },
    "id": "1GEjptiMg68p",
    "outputId": "b7367294-4603-4515-f568-8f8fd42b2cdd"
   },
   "outputs": [
    {
     "name": "stdout",
     "output_type": "stream",
     "text": [
      "1271\n"
     ]
    }
   ],
   "source": [
    "num_rows = len(dataframe)\n",
    "print(num_rows)"
   ]
  },
  {
   "cell_type": "markdown",
   "metadata": {
    "colab_type": "text",
    "id": "5NTnqVNdg68w"
   },
   "source": [
    "**Q: How many columns does the dataset have**"
   ]
  },
  {
   "cell_type": "code",
   "execution_count": 29,
   "metadata": {
    "colab": {
     "base_uri": "https://localhost:8080/",
     "height": 35
    },
    "colab_type": "code",
    "executionInfo": {
     "elapsed": 12849,
     "status": "ok",
     "timestamp": 1590919719810,
     "user": {
      "displayName": "San Sequeira",
      "photoUrl": "https://lh3.googleusercontent.com/a-/AOh14Gi8U-ajiW3O50jfGXl-ZWVxnF6YFijFWtNiId0=s64",
      "userId": "16413449616003649474"
     },
     "user_tz": -330
    },
    "id": "RdQdd_5Qg68y",
    "outputId": "b4624de0-95d2-45ec-8d05-e93c9895b40f"
   },
   "outputs": [
    {
     "name": "stdout",
     "output_type": "stream",
     "text": [
      "6\n"
     ]
    }
   ],
   "source": [
    "num_cols = len(dataframe.columns)\n",
    "print(num_cols)"
   ]
  },
  {
   "cell_type": "markdown",
   "metadata": {
    "colab_type": "text",
    "id": "gWhhAgLjg685"
   },
   "source": [
    "**Q: What are the column titles of the input variables?**"
   ]
  },
  {
   "cell_type": "code",
   "execution_count": 30,
   "metadata": {
    "colab": {
     "base_uri": "https://localhost:8080/",
     "height": 35
    },
    "colab_type": "code",
    "executionInfo": {
     "elapsed": 12830,
     "status": "ok",
     "timestamp": 1590919719811,
     "user": {
      "displayName": "San Sequeira",
      "photoUrl": "https://lh3.googleusercontent.com/a-/AOh14Gi8U-ajiW3O50jfGXl-ZWVxnF6YFijFWtNiId0=s64",
      "userId": "16413449616003649474"
     },
     "user_tz": -330
    },
    "id": "Q3k3sDvMg686",
    "outputId": "0c278b82-4d15-4683-d8ee-d55e2c95bcf2"
   },
   "outputs": [
    {
     "data": {
      "text/plain": [
       "['age', 'sex', 'bmi', 'children', 'smoker']"
      ]
     },
     "execution_count": 30,
     "metadata": {},
     "output_type": "execute_result"
    }
   ],
   "source": [
    "input_cols =  list(dataframe.columns[:-1])\n",
    "input_cols # returns column names of the dataframe"
   ]
  },
  {
   "cell_type": "markdown",
   "metadata": {
    "colab_type": "text",
    "id": "IH6SfFIcg69B"
   },
   "source": [
    "**Q: Which of the input columns are non-numeric or categorial variables ?**\n",
    "\n",
    "Hint: `sex` is one of them. List the columns that are not numbers."
   ]
  },
  {
   "cell_type": "code",
   "execution_count": 31,
   "metadata": {
    "colab": {
     "base_uri": "https://localhost:8080/",
     "height": 35
    },
    "colab_type": "code",
    "executionInfo": {
     "elapsed": 12814,
     "status": "ok",
     "timestamp": 1590919719814,
     "user": {
      "displayName": "San Sequeira",
      "photoUrl": "https://lh3.googleusercontent.com/a-/AOh14Gi8U-ajiW3O50jfGXl-ZWVxnF6YFijFWtNiId0=s64",
      "userId": "16413449616003649474"
     },
     "user_tz": -330
    },
    "id": "reJx-1t-g69C",
    "outputId": "35ec0196-e09a-4bdd-8433-f7ec3eb8339b"
   },
   "outputs": [
    {
     "data": {
      "text/plain": [
       "['sex', 'smoker']"
      ]
     },
     "execution_count": 31,
     "metadata": {},
     "output_type": "execute_result"
    }
   ],
   "source": [
    "categorical_cols = ['sex', 'smoker']  #list(dataframe.select_dtypes(include=['object']))\n",
    "categorical_cols  # lists non-numerical datatypes"
   ]
  },
  {
   "cell_type": "markdown",
   "metadata": {
    "colab_type": "text",
    "id": "xM81nPJdg69H"
   },
   "source": [
    "**Q: What are the column titles of output/target variable(s)?**"
   ]
  },
  {
   "cell_type": "code",
   "execution_count": 32,
   "metadata": {
    "colab": {},
    "colab_type": "code",
    "id": "ncVkkDHRg69I"
   },
   "outputs": [],
   "source": [
    "output_cols = ['charges']"
   ]
  },
  {
   "cell_type": "markdown",
   "metadata": {
    "colab_type": "text",
    "id": "xUbp3dW1g69U"
   },
   "source": [
    "**Q: (Optional) What is the minimum, maximum and average value of the `charges` column? Can you show the distribution of values in a graph?**\n",
    "Use this data visualization cheatsheet for referece: https://jovian.ml/aakashns/dataviz-cheatsheet"
   ]
  },
  {
   "cell_type": "code",
   "execution_count": 33,
   "metadata": {
    "colab": {
     "base_uri": "https://localhost:8080/",
     "height": 72
    },
    "colab_type": "code",
    "executionInfo": {
     "elapsed": 12787,
     "status": "ok",
     "timestamp": 1590919719819,
     "user": {
      "displayName": "San Sequeira",
      "photoUrl": "https://lh3.googleusercontent.com/a-/AOh14Gi8U-ajiW3O50jfGXl-ZWVxnF6YFijFWtNiId0=s64",
      "userId": "16413449616003649474"
     },
     "user_tz": -330
    },
    "id": "nJ8gmBV6g69V",
    "outputId": "cd5e68c9-8f13-45dd-f61a-af494d934d91"
   },
   "outputs": [
    {
     "name": "stdout",
     "output_type": "stream",
     "text": [
      "minimum: 1234.06129 \n",
      "maximum: 70147.470811 \n",
      "average: 14647.332621398033\n"
     ]
    }
   ],
   "source": [
    "# Write your answer here\n",
    "minimum, maximum, average = dataframe.charges.min(), dataframe.charges.max(), dataframe.charges.mean()\n",
    "print('minimum: {} \\nmaximum: {} \\naverage: {}'.format(minimum, maximum, average))"
   ]
  },
  {
   "cell_type": "markdown",
   "metadata": {
    "colab_type": "text",
    "id": "N1ETmC7gvrQj"
   },
   "source": [
    "### Plotting distribution using Pandas Histogram\n"
   ]
  },
  {
   "cell_type": "code",
   "execution_count": 34,
   "metadata": {
    "colab": {
     "base_uri": "https://localhost:8080/",
     "height": 862
    },
    "colab_type": "code",
    "executionInfo": {
     "elapsed": 12764,
     "status": "ok",
     "timestamp": 1590919719820,
     "user": {
      "displayName": "San Sequeira",
      "photoUrl": "https://lh3.googleusercontent.com/a-/AOh14Gi8U-ajiW3O50jfGXl-ZWVxnF6YFijFWtNiId0=s64",
      "userId": "16413449616003649474"
     },
     "user_tz": -330
    },
    "id": "XER0303-vg4t",
    "outputId": "ac57fe1f-c7e2-4d6b-ff96-bd04bb747528"
   },
   "outputs": [
    {
     "data": {
      "text/plain": [
       "array([[<matplotlib.axes._subplots.AxesSubplot object at 0x7f58de091510>,\n",
       "        <matplotlib.axes._subplots.AxesSubplot object at 0x7f58ddfa4910>],\n",
       "       [<matplotlib.axes._subplots.AxesSubplot object at 0x7f58ddfd7f10>,\n",
       "        <matplotlib.axes._subplots.AxesSubplot object at 0x7f58ddf935d0>]],\n",
       "      dtype=object)"
      ]
     },
     "execution_count": 34,
     "metadata": {},
     "output_type": "execute_result"
    },
    {
     "data": {
      "image/png": "[encoded data removed]",
      "text/plain": [
       "<Figure size 936x936 with 4 Axes>"
      ]
     },
     "metadata": {
      "needs_background": "light"
     },
     "output_type": "display_data"
    }
   ],
   "source": [
    "dataframe.hist(figsize=(13,13), grid=False) "
   ]
  },
  {
   "cell_type": "markdown",
   "metadata": {
    "colab_type": "text",
    "id": "rSDmLr2Wg69a"
   },
   "source": [
    "Remember to commit your notebook to Jovian after every step, so that you don't lose your work."
   ]
  },
  {
   "cell_type": "code",
   "execution_count": 35,
   "metadata": {
    "colab": {
     "base_uri": "https://localhost:8080/",
     "height": 35
    },
    "colab_type": "code",
    "executionInfo": {
     "elapsed": 12747,
     "status": "ok",
     "timestamp": 1590919719822,
     "user": {
      "displayName": "San Sequeira",
      "photoUrl": "https://lh3.googleusercontent.com/a-/AOh14Gi8U-ajiW3O50jfGXl-ZWVxnF6YFijFWtNiId0=s64",
      "userId": "16413449616003649474"
     },
     "user_tz": -330
    },
    "id": "EYkrHB2Eg69a",
    "outputId": "a469193f-4218-4814-d4a3-d7b43667816f"
   },
   "outputs": [
    {
     "data": {
      "application/javascript": [
       "window.require && require([\"base/js/namespace\"],function(Jupyter){Jupyter.notebook.save_checkpoint()})"
      ],
      "text/plain": [
       "<IPython.core.display.Javascript object>"
      ]
     },
     "metadata": {},
     "output_type": "display_data"
    },
    {
     "name": "stdout",
     "output_type": "stream",
     "text": [
      "[jovian] Attempting to save notebook..\u001b[0m\n",
      "[jovian] Please enter your API key ( from https://jovian.ml/ ):\u001b[0m\n",
      "API KEY: ········\n",
      "[jovian] Updating notebook \"sanlukesqra/02-insurance-linear-regression\" on https://jovian.ml/\u001b[0m\n",
      "[jovian] Uploading notebook..\u001b[0m\n",
      "[jovian] Committed successfully! https://jovian.ml/sanlukesqra/02-insurance-linear-regression\u001b[0m\n"
     ]
    },
    {
     "data": {
      "text/plain": [
       "'https://jovian.ml/sanlukesqra/02-insurance-linear-regression'"
      ]
     },
     "execution_count": 35,
     "metadata": {},
     "output_type": "execute_result"
    }
   ],
   "source": [
    "jovian.commit(project=project_name, environment=None)"
   ]
  },
  {
   "cell_type": "markdown",
   "metadata": {
    "colab_type": "text",
    "id": "rw2-rpAhg69e"
   },
   "source": [
    "## Step 2: Prepare the dataset for training\n",
    "\n",
    "We need to convert the data from the Pandas dataframe into a PyTorch tensors for training. To do this, the first step is to convert it numpy arrays. If you've filled out `input_cols`, `categorial_cols` and `output_cols` correctly, this following function will perform the conversion to numpy arrays."
   ]
  },
  {
   "cell_type": "code",
   "execution_count": 36,
   "metadata": {
    "colab": {},
    "colab_type": "code",
    "id": "VUg_vKhdg69f"
   },
   "outputs": [],
   "source": [
    "def dataframe_to_arrays(dataframe):\n",
    "    # Make a copy of the original dataframe\n",
    "    dataframe1 = dataframe.copy(deep=True)\n",
    "    # Convert non-numeric categorical columns to numbers\n",
    "    for col in categorical_cols:\n",
    "        dataframe1[col] = dataframe1[col].astype('category').cat.codes\n",
    "    # Extract input & outupts as numpy arrays\n",
    "    inputs_array = dataframe1[input_cols].to_numpy()\n",
    "    targets_array = dataframe1[output_cols].to_numpy()\n",
    "    return inputs_array, targets_array"
   ]
  },
  {
   "cell_type": "markdown",
   "metadata": {
    "colab_type": "text",
    "id": "HH37YKB1g69k"
   },
   "source": [
    "Read through the [Pandas documentation](https://pandas.pydata.org/pandas-docs/stable/user_guide/categorical.html) to understand how we're converting categorical variables into numbers."
   ]
  },
  {
   "cell_type": "code",
   "execution_count": 37,
   "metadata": {
    "colab": {
     "base_uri": "https://localhost:8080/",
     "height": 362
    },
    "colab_type": "code",
    "executionInfo": {
     "elapsed": 12721,
     "status": "ok",
     "timestamp": 1590919719824,
     "user": {
      "displayName": "San Sequeira",
      "photoUrl": "https://lh3.googleusercontent.com/a-/AOh14Gi8U-ajiW3O50jfGXl-ZWVxnF6YFijFWtNiId0=s64",
      "userId": "16413449616003649474"
     },
     "user_tz": -330
    },
    "id": "0M6GFFjsg69l",
    "outputId": "c8be8b34-fdea-4e1e-b9fa-60fd0f9585f1"
   },
   "outputs": [
    {
     "data": {
      "text/plain": [
       "(array([[23.     ,  0.     , 33.81905,  0.     ,  0.     ],\n",
       "        [20.     ,  1.     , 21.34   ,  1.     ,  0.     ],\n",
       "        [28.     ,  0.     , 28.0136 ,  1.     ,  0.     ],\n",
       "        ...,\n",
       "        [53.     ,  0.     , 25.899  ,  2.     ,  0.     ],\n",
       "        [26.     ,  1.     , 26.2482 ,  0.     ,  1.     ],\n",
       "        [19.     ,  0.     , 27.4607 ,  0.     ,  1.     ]]),\n",
       " array([[ 3189.438285],\n",
       "        [ 2161.258   ],\n",
       "        [ 4771.50872 ],\n",
       "        ...,\n",
       "        [12265.858   ],\n",
       "        [18747.67554 ],\n",
       "        [19215.88229 ]]))"
      ]
     },
     "execution_count": 37,
     "metadata": {},
     "output_type": "execute_result"
    }
   ],
   "source": [
    "inputs_array, targets_array = dataframe_to_arrays(dataframe)\n",
    "inputs_array, targets_array"
   ]
  },
  {
   "cell_type": "markdown",
   "metadata": {
    "colab_type": "text",
    "id": "lIax_9k1g69o"
   },
   "source": [
    "**Q: Convert the numpy arrays `inputs_array` and `targets_array` into PyTorch tensors. Make sure that the data type is `torch.float32`.**"
   ]
  },
  {
   "cell_type": "code",
   "execution_count": 38,
   "metadata": {
    "colab": {},
    "colab_type": "code",
    "id": "upk2AMJRg69q"
   },
   "outputs": [],
   "source": [
    "inputs = torch.from_numpy(inputs_array).type(torch.float32)\n",
    "targets = torch.from_numpy(targets_array).type(torch.float32)"
   ]
  },
  {
   "cell_type": "code",
   "execution_count": 39,
   "metadata": {
    "colab": {
     "base_uri": "https://localhost:8080/",
     "height": 35
    },
    "colab_type": "code",
    "executionInfo": {
     "elapsed": 12693,
     "status": "ok",
     "timestamp": 1590919719828,
     "user": {
      "displayName": "San Sequeira",
      "photoUrl": "https://lh3.googleusercontent.com/a-/AOh14Gi8U-ajiW3O50jfGXl-ZWVxnF6YFijFWtNiId0=s64",
      "userId": "16413449616003649474"
     },
     "user_tz": -330
    },
    "id": "Gs-6JDuGg69u",
    "outputId": "51c84534-3385-411f-ec6a-6159f610c474"
   },
   "outputs": [
    {
     "data": {
      "text/plain": [
       "(torch.float32, torch.float32)"
      ]
     },
     "execution_count": 39,
     "metadata": {},
     "output_type": "execute_result"
    }
   ],
   "source": [
    "inputs.dtype, targets.dtype"
   ]
  },
  {
   "cell_type": "markdown",
   "metadata": {
    "colab_type": "text",
    "id": "pf9QOUNWg69z"
   },
   "source": [
    "Next, we need to create PyTorch datasets & data loaders for training & validation. We'll start by creating a `TensorDataset`."
   ]
  },
  {
   "cell_type": "code",
   "execution_count": 40,
   "metadata": {
    "colab": {},
    "colab_type": "code",
    "id": "1u_o4MhNg69z"
   },
   "outputs": [],
   "source": [
    "dataset = TensorDataset(inputs, targets)"
   ]
  },
  {
   "cell_type": "markdown",
   "metadata": {
    "colab_type": "text",
    "id": "_jFOiaXug693"
   },
   "source": [
    "**Q: Pick a number between `0.1` and `0.2` to determine the fraction of data that will be used for creating the validation set. Then use `random_split` to create training & validation datasets. **"
   ]
  },
  {
   "cell_type": "code",
   "execution_count": 41,
   "metadata": {
    "colab": {},
    "colab_type": "code",
    "id": "0kq9GWUCg694"
   },
   "outputs": [],
   "source": [
    "val_percent = 0.2 # between 0.1 and 0.2\n",
    "val_size = int(num_rows * val_percent)\n",
    "train_size = num_rows - val_size\n",
    "\n",
    "\n",
    "train_ds, val_ds = random_split(dataset, [train_size, val_size]) # Use the random_split function to split dataset into 2 parts of the desired length"
   ]
  },
  {
   "cell_type": "markdown",
   "metadata": {
    "colab_type": "text",
    "id": "LcIHj0nBg69-"
   },
   "source": [
    "Finally, we can create data loaders for training & validation.\n",
    "\n",
    "**Q: Pick a batch size for the data loader.**"
   ]
  },
  {
   "cell_type": "code",
   "execution_count": 42,
   "metadata": {
    "colab": {},
    "colab_type": "code",
    "id": "UzZ24YqMg69_"
   },
   "outputs": [],
   "source": [
    "batch_size = 16"
   ]
  },
  {
   "cell_type": "code",
   "execution_count": 43,
   "metadata": {
    "colab": {},
    "colab_type": "code",
    "id": "lABFjbrSg6-C"
   },
   "outputs": [],
   "source": [
    "train_loader = DataLoader(train_ds, batch_size, shuffle=True)\n",
    "val_loader = DataLoader(val_ds, batch_size)"
   ]
  },
  {
   "cell_type": "markdown",
   "metadata": {
    "colab_type": "text",
    "id": "qoqJf083g6-H"
   },
   "source": [
    "Let's look at a batch of data to verify everything is working fine so far."
   ]
  },
  {
   "cell_type": "code",
   "execution_count": 44,
   "metadata": {
    "colab": {
     "base_uri": "https://localhost:8080/",
     "height": 598
    },
    "colab_type": "code",
    "executionInfo": {
     "elapsed": 12639,
     "status": "ok",
     "timestamp": 1590919719840,
     "user": {
      "displayName": "San Sequeira",
      "photoUrl": "https://lh3.googleusercontent.com/a-/AOh14Gi8U-ajiW3O50jfGXl-ZWVxnF6YFijFWtNiId0=s64",
      "userId": "16413449616003649474"
     },
     "user_tz": -330
    },
    "id": "EvsU44cRg6-I",
    "outputId": "314af02d-1b36-4050-8604-c6c38fc56216"
   },
   "outputs": [
    {
     "name": "stdout",
     "output_type": "stream",
     "text": [
      "inputs: tensor([[40.0000,  0.0000, 31.7917,  2.0000,  1.0000],\n",
      "        [19.0000,  0.0000, 18.0420,  0.0000,  0.0000],\n",
      "        [46.0000,  1.0000, 19.2593,  0.0000,  0.0000],\n",
      "        [64.0000,  1.0000, 33.4650,  0.0000,  0.0000],\n",
      "        [56.0000,  1.0000, 39.0910,  0.0000,  0.0000],\n",
      "        [58.0000,  0.0000, 40.6527,  0.0000,  0.0000],\n",
      "        [62.0000,  1.0000, 38.7321,  0.0000,  0.0000],\n",
      "        [36.0000,  0.0000, 29.1194,  0.0000,  0.0000],\n",
      "        [21.0000,  0.0000, 38.3053,  0.0000,  0.0000],\n",
      "        [36.0000,  1.0000, 28.0136,  3.0000,  0.0000],\n",
      "        [42.0000,  1.0000, 27.4607,  3.0000,  1.0000],\n",
      "        [45.0000,  0.0000, 26.9951,  2.0000,  0.0000],\n",
      "        [36.0000,  1.0000, 40.6381,  3.0000,  1.0000],\n",
      "        [33.0000,  1.0000, 34.1876,  0.0000,  0.0000],\n",
      "        [20.0000,  0.0000, 28.1057,  0.0000,  0.0000],\n",
      "        [53.0000,  1.0000, 23.5904,  0.0000,  0.0000]])\n",
      "targets: tensor([[44003.6641],\n",
      "        [ 1901.7867],\n",
      "        [ 8279.3770],\n",
      "        [15205.0830],\n",
      "        [11662.6230],\n",
      "        [26650.0703],\n",
      "        [14281.1621],\n",
      "        [ 5799.3936],\n",
      "        [ 2229.6716],\n",
      "        [ 7423.4502],\n",
      "        [36066.2031],\n",
      "        [ 9367.3350],\n",
      "        [48128.6719],\n",
      "        [13645.3672],\n",
      "        [ 2483.2227],\n",
      "        [10849.8193]])\n"
     ]
    }
   ],
   "source": [
    "for xb, yb in train_loader:\n",
    "    print(\"inputs:\", xb)\n",
    "    print(\"targets:\", yb)\n",
    "    break"
   ]
  },
  {
   "cell_type": "markdown",
   "metadata": {
    "colab_type": "text",
    "id": "VC_3SPCig6-L"
   },
   "source": [
    "Let's save our work by committing to Jovian."
   ]
  },
  {
   "cell_type": "code",
   "execution_count": 45,
   "metadata": {
    "colab": {
     "base_uri": "https://localhost:8080/",
     "height": 35
    },
    "colab_type": "code",
    "executionInfo": {
     "elapsed": 12616,
     "status": "ok",
     "timestamp": 1590919719841,
     "user": {
      "displayName": "San Sequeira",
      "photoUrl": "https://lh3.googleusercontent.com/a-/AOh14Gi8U-ajiW3O50jfGXl-ZWVxnF6YFijFWtNiId0=s64",
      "userId": "16413449616003649474"
     },
     "user_tz": -330
    },
    "id": "YmSRzqK6g6-N",
    "outputId": "f32154fa-904d-431e-ea44-adabebde77ee"
   },
   "outputs": [
    {
     "data": {
      "application/javascript": [
       "window.require && require([\"base/js/namespace\"],function(Jupyter){Jupyter.notebook.save_checkpoint()})"
      ],
      "text/plain": [
       "<IPython.core.display.Javascript object>"
      ]
     },
     "metadata": {},
     "output_type": "display_data"
    },
    {
     "name": "stdout",
     "output_type": "stream",
     "text": [
      "[jovian] Attempting to save notebook..\u001b[0m\n",
      "[jovian] Updating notebook \"sanlukesqra/02-insurance-linear-regression\" on https://jovian.ml/\u001b[0m\n",
      "[jovian] Uploading notebook..\u001b[0m\n",
      "[jovian] Committed successfully! https://jovian.ml/sanlukesqra/02-insurance-linear-regression\u001b[0m\n"
     ]
    },
    {
     "data": {
      "text/plain": [
       "'https://jovian.ml/sanlukesqra/02-insurance-linear-regression'"
      ]
     },
     "execution_count": 45,
     "metadata": {},
     "output_type": "execute_result"
    }
   ],
   "source": [
    "jovian.commit(project=project_name, environment=None)"
   ]
  },
  {
   "cell_type": "markdown",
   "metadata": {
    "colab_type": "text",
    "id": "IbnmveBmg6-Q"
   },
   "source": [
    "## Step 3: Create a Linear Regression Model\n",
    "\n",
    "Our model itself is a fairly straightforward linear regression (we'll build more complex models in the next assignment). \n"
   ]
  },
  {
   "cell_type": "code",
   "execution_count": 46,
   "metadata": {
    "colab": {},
    "colab_type": "code",
    "id": "qBOMbmucg6-T"
   },
   "outputs": [],
   "source": [
    "input_size = len(input_cols)\n",
    "output_size = len(output_cols)"
   ]
  },
  {
   "cell_type": "markdown",
   "metadata": {
    "colab_type": "text",
    "id": "yu9BNQgdg6-X"
   },
   "source": [
    "**Q: Complete the class definition below by filling out the constructor (`__init__`), `forward`, `training_step` and `validation_step` methods.**\n",
    "\n",
    "Hint: Think carefully about picking a good loss fuction (it's not cross entropy). Maybe try 2-3 of them and see which one works best. See https://pytorch.org/docs/stable/nn.functional.html#loss-functions"
   ]
  },
  {
   "cell_type": "code",
   "execution_count": 47,
   "metadata": {
    "colab": {},
    "colab_type": "code",
    "id": "cqvvDD3ag6-X"
   },
   "outputs": [],
   "source": [
    "class InsuranceModel(nn.Module):\n",
    "    def __init__(self):\n",
    "        super().__init__()\n",
    "        self.linear = nn.Linear(input_size, output_size)                 # fill this (hint: use input_size & output_size defined above)\n",
    "        \n",
    "    def forward(self, xb):\n",
    "        out = self.linear(xb)                          # fill this\n",
    "        return out\n",
    "    \n",
    "    def training_step(self, batch):\n",
    "        inputs, targets = batch \n",
    "        # Generate predictions\n",
    "        out = self(inputs)          \n",
    "        # Calcuate loss\n",
    "        loss = F.smooth_l1_loss(out, targets)                      # fill this\n",
    "        return loss\n",
    "    \n",
    "    def validation_step(self, batch):\n",
    "        inputs, targets = batch\n",
    "        # Generate predictions\n",
    "        out = self(inputs)\n",
    "        # Calculate loss\n",
    "        loss = F.smooth_l1_loss(out, targets)                           # fill this    \n",
    "        return {'val_loss': loss.detach()}\n",
    "        \n",
    "    def validation_epoch_end(self, outputs):\n",
    "        batch_losses = [x['val_loss'] for x in outputs]\n",
    "        epoch_loss = torch.stack(batch_losses).mean()   # Combine losses\n",
    "        return {'val_loss': epoch_loss.item()}\n",
    "    \n",
    "    def epoch_end(self, epoch, result, num_epochs):\n",
    "        # Print result every 20th epoch\n",
    "        if (epoch+1) % 20 == 0 or epoch == num_epochs-1:\n",
    "            print(\"Epoch [{}], val_loss: {:.4f}\".format(epoch+1, result['val_loss']))"
   ]
  },
  {
   "cell_type": "markdown",
   "metadata": {
    "colab_type": "text",
    "id": "0WLyhKE5g6-c"
   },
   "source": [
    "Let us create a model using the `InsuranceModel` class. You may need to come back later and re-run the next cell to reinitialize the model, in case the loss becomes `nan` or `infinity`."
   ]
  },
  {
   "cell_type": "code",
   "execution_count": 48,
   "metadata": {
    "colab": {},
    "colab_type": "code",
    "id": "IfAWaZKXg6-d"
   },
   "outputs": [],
   "source": [
    "model = InsuranceModel()"
   ]
  },
  {
   "cell_type": "markdown",
   "metadata": {
    "colab_type": "text",
    "id": "z7TmBXjIg6-e"
   },
   "source": [
    "Let's check out the weights and biases of the model using `model.parameters`."
   ]
  },
  {
   "cell_type": "code",
   "execution_count": 49,
   "metadata": {
    "colab": {
     "base_uri": "https://localhost:8080/",
     "height": 90
    },
    "colab_type": "code",
    "executionInfo": {
     "elapsed": 12577,
     "status": "ok",
     "timestamp": 1590919719849,
     "user": {
      "displayName": "San Sequeira",
      "photoUrl": "https://lh3.googleusercontent.com/a-/AOh14Gi8U-ajiW3O50jfGXl-ZWVxnF6YFijFWtNiId0=s64",
      "userId": "16413449616003649474"
     },
     "user_tz": -330
    },
    "id": "tvr4SNwkg6-f",
    "outputId": "4cfefb94-1b14-4688-9830-fd46debff723"
   },
   "outputs": [
    {
     "data": {
      "text/plain": [
       "[Parameter containing:\n",
       " tensor([[ 0.2130, -0.1003, -0.0115,  0.4074, -0.2685]], requires_grad=True),\n",
       " Parameter containing:\n",
       " tensor([0.3961], requires_grad=True)]"
      ]
     },
     "execution_count": 49,
     "metadata": {},
     "output_type": "execute_result"
    }
   ],
   "source": [
    "list(model.parameters())"
   ]
  },
  {
   "cell_type": "markdown",
   "metadata": {
    "colab_type": "text",
    "id": "IGsbk5b5g6-k"
   },
   "source": [
    "One final commit before we train the model."
   ]
  },
  {
   "cell_type": "code",
   "execution_count": 50,
   "metadata": {
    "colab": {
     "base_uri": "https://localhost:8080/",
     "height": 35
    },
    "colab_type": "code",
    "executionInfo": {
     "elapsed": 12563,
     "status": "ok",
     "timestamp": 1590919719852,
     "user": {
      "displayName": "San Sequeira",
      "photoUrl": "https://lh3.googleusercontent.com/a-/AOh14Gi8U-ajiW3O50jfGXl-ZWVxnF6YFijFWtNiId0=s64",
      "userId": "16413449616003649474"
     },
     "user_tz": -330
    },
    "id": "_86nli-Tg6-k",
    "outputId": "b00782af-2d65-4237-86e6-690a39309e9e"
   },
   "outputs": [
    {
     "data": {
      "application/javascript": [
       "window.require && require([\"base/js/namespace\"],function(Jupyter){Jupyter.notebook.save_checkpoint()})"
      ],
      "text/plain": [
       "<IPython.core.display.Javascript object>"
      ]
     },
     "metadata": {},
     "output_type": "display_data"
    },
    {
     "name": "stdout",
     "output_type": "stream",
     "text": [
      "[jovian] Attempting to save notebook..\u001b[0m\n",
      "[jovian] Updating notebook \"sanlukesqra/02-insurance-linear-regression\" on https://jovian.ml/\u001b[0m\n",
      "[jovian] Uploading notebook..\u001b[0m\n",
      "[jovian] Committed successfully! https://jovian.ml/sanlukesqra/02-insurance-linear-regression\u001b[0m\n"
     ]
    },
    {
     "data": {
      "text/plain": [
       "'https://jovian.ml/sanlukesqra/02-insurance-linear-regression'"
      ]
     },
     "execution_count": 50,
     "metadata": {},
     "output_type": "execute_result"
    }
   ],
   "source": [
    "jovian.commit(project=project_name, environment=None)"
   ]
  },
  {
   "cell_type": "markdown",
   "metadata": {
    "colab_type": "text",
    "id": "JL9A8ULIg6-o"
   },
   "source": [
    "## Step 4: Train the model to fit the data\n",
    "\n",
    "To train our model, we'll use the same `fit` function explained in the lecture. That's the benefit of defining a generic training loop - you can use it for any problem."
   ]
  },
  {
   "cell_type": "code",
   "execution_count": 51,
   "metadata": {
    "colab": {},
    "colab_type": "code",
    "id": "xxYIKcYmg6-p"
   },
   "outputs": [],
   "source": [
    "def evaluate(model, val_loader):\n",
    "    outputs = [model.validation_step(batch) for batch in val_loader]\n",
    "    return model.validation_epoch_end(outputs)\n",
    "\n",
    "def fit(epochs, lr, model, train_loader, val_loader, opt_func=torch.optim.SGD):\n",
    "    history = []\n",
    "    optimizer = opt_func(model.parameters(), lr)\n",
    "    for epoch in range(epochs):\n",
    "        # Training Phase \n",
    "        for batch in train_loader:\n",
    "            loss = model.training_step(batch)\n",
    "            loss.backward()\n",
    "            optimizer.step()\n",
    "            optimizer.zero_grad()\n",
    "        # Validation phase\n",
    "        result = evaluate(model, val_loader)\n",
    "        model.epoch_end(epoch, result, epochs)\n",
    "        history.append(result)\n",
    "    return history"
   ]
  },
  {
   "cell_type": "markdown",
   "metadata": {
    "colab_type": "text",
    "id": "vTowMR-fg6-s"
   },
   "source": [
    "**Q: Use the `evaluate` function to calculate the loss on the validation set before training.**"
   ]
  },
  {
   "cell_type": "code",
   "execution_count": 52,
   "metadata": {
    "colab": {
     "base_uri": "https://localhost:8080/",
     "height": 35
    },
    "colab_type": "code",
    "executionInfo": {
     "elapsed": 12539,
     "status": "ok",
     "timestamp": 1590919719856,
     "user": {
      "displayName": "San Sequeira",
      "photoUrl": "https://lh3.googleusercontent.com/a-/AOh14Gi8U-ajiW3O50jfGXl-ZWVxnF6YFijFWtNiId0=s64",
      "userId": "16413449616003649474"
     },
     "user_tz": -330
    },
    "id": "E-ew2kFPg6-u",
    "outputId": "f6ea4c9d-be32-4b65-80a3-42582aa464ca"
   },
   "outputs": [
    {
     "name": "stdout",
     "output_type": "stream",
     "text": [
      "{'val_loss': 13879.7724609375}\n"
     ]
    }
   ],
   "source": [
    "result = evaluate(model, val_loader) # Use the the evaluate function\n",
    "print(result)"
   ]
  },
  {
   "cell_type": "markdown",
   "metadata": {
    "colab_type": "text",
    "id": "W2JaT0Qsg6-w"
   },
   "source": [
    "\n",
    "We are now ready to train the model. You may need to run the training loop many times, for different number of epochs and with different learning rates, to get a good result. Also, if your loss becomes too large (or `nan`), you may have to re-initialize the model by running the cell `model = InsuranceModel()`. Experiment with this for a while, and try to get to as low a loss as possible."
   ]
  },
  {
   "cell_type": "markdown",
   "metadata": {
    "colab_type": "text",
    "id": "0p5JWy2Vg6-x"
   },
   "source": [
    "**Q: Train the model 4-5 times with different learning rates & for different number of epochs.**\n",
    "\n",
    "Hint: Vary learning rates by orders of 10 (e.g. `1e-2`, `1e-3`, `1e-4`, `1e-5`, `1e-6`) to figure out what works."
   ]
  },
  {
   "cell_type": "code",
   "execution_count": 53,
   "metadata": {
    "colab": {
     "base_uri": "https://localhost:8080/",
     "height": 108
    },
    "colab_type": "code",
    "executionInfo": {
     "elapsed": 13633,
     "status": "ok",
     "timestamp": 1590919720972,
     "user": {
      "displayName": "San Sequeira",
      "photoUrl": "https://lh3.googleusercontent.com/a-/AOh14Gi8U-ajiW3O50jfGXl-ZWVxnF6YFijFWtNiId0=s64",
      "userId": "16413449616003649474"
     },
     "user_tz": -330
    },
    "id": "ExWMz7aOg6-x",
    "outputId": "d9877417-9f24-40dd-9735-49187fe4a983"
   },
   "outputs": [
    {
     "name": "stdout",
     "output_type": "stream",
     "text": [
      "Epoch [20], val_loss: 7685.7339\n",
      "Epoch [40], val_loss: 7529.9780\n",
      "Epoch [60], val_loss: 7386.0249\n",
      "Epoch [80], val_loss: 7266.6509\n",
      "Epoch [100], val_loss: 7169.6748\n"
     ]
    }
   ],
   "source": [
    "epochs = 100\n",
    "lr = 1e-2\n",
    "history1 = fit(epochs, lr, model, train_loader, val_loader)"
   ]
  },
  {
   "cell_type": "code",
   "execution_count": 54,
   "metadata": {
    "colab": {
     "base_uri": "https://localhost:8080/",
     "height": 199
    },
    "colab_type": "code",
    "executionInfo": {
     "elapsed": 20544,
     "status": "ok",
     "timestamp": 1590919727902,
     "user": {
      "displayName": "San Sequeira",
      "photoUrl": "https://lh3.googleusercontent.com/a-/AOh14Gi8U-ajiW3O50jfGXl-ZWVxnF6YFijFWtNiId0=s64",
      "userId": "16413449616003649474"
     },
     "user_tz": -330
    },
    "id": "W4a44_drg6-0",
    "outputId": "522e4293-6b3d-49d7-a6e2-104d60690c82"
   },
   "outputs": [
    {
     "name": "stdout",
     "output_type": "stream",
     "text": [
      "Epoch [20], val_loss: 7164.2734\n",
      "Epoch [40], val_loss: 7158.4146\n",
      "Epoch [60], val_loss: 7153.2271\n",
      "Epoch [80], val_loss: 7148.0835\n",
      "Epoch [100], val_loss: 7142.9243\n",
      "Epoch [120], val_loss: 7137.0400\n",
      "Epoch [140], val_loss: 7132.1064\n",
      "Epoch [160], val_loss: 7126.5742\n",
      "Epoch [180], val_loss: 7121.4204\n",
      "Epoch [200], val_loss: 7115.1416\n"
     ]
    }
   ],
   "source": [
    "epochs = 200\n",
    "lr = 1e-3\n",
    "history2 = fit(epochs, lr, model, train_loader, val_loader)"
   ]
  },
  {
   "cell_type": "code",
   "execution_count": 55,
   "metadata": {
    "colab": {
     "base_uri": "https://localhost:8080/",
     "height": 290
    },
    "colab_type": "code",
    "executionInfo": {
     "elapsed": 32307,
     "status": "ok",
     "timestamp": 1590919739682,
     "user": {
      "displayName": "San Sequeira",
      "photoUrl": "https://lh3.googleusercontent.com/a-/AOh14Gi8U-ajiW3O50jfGXl-ZWVxnF6YFijFWtNiId0=s64",
      "userId": "16413449616003649474"
     },
     "user_tz": -330
    },
    "id": "FHgHgDqgg6-2",
    "outputId": "53080443-94e6-4f19-d26b-e3a37a2620e9"
   },
   "outputs": [
    {
     "name": "stdout",
     "output_type": "stream",
     "text": [
      "Epoch [20], val_loss: 7114.6938\n",
      "Epoch [40], val_loss: 7114.1812\n",
      "Epoch [60], val_loss: 7113.6646\n",
      "Epoch [80], val_loss: 7113.2065\n",
      "Epoch [100], val_loss: 7112.7256\n",
      "Epoch [120], val_loss: 7112.1543\n",
      "Epoch [140], val_loss: 7111.6138\n",
      "Epoch [160], val_loss: 7111.0415\n",
      "Epoch [180], val_loss: 7110.5117\n",
      "Epoch [200], val_loss: 7110.0049\n",
      "Epoch [220], val_loss: 7109.5142\n",
      "Epoch [240], val_loss: 7109.0010\n",
      "Epoch [260], val_loss: 7108.4824\n",
      "Epoch [280], val_loss: 7107.9307\n",
      "Epoch [300], val_loss: 7107.4326\n"
     ]
    }
   ],
   "source": [
    "epochs = 300\n",
    "lr = 1e-4\n",
    "history3 = fit(epochs, lr, model, train_loader, val_loader)"
   ]
  },
  {
   "cell_type": "code",
   "execution_count": 56,
   "metadata": {
    "colab": {
     "base_uri": "https://localhost:8080/",
     "height": 380
    },
    "colab_type": "code",
    "executionInfo": {
     "elapsed": 48517,
     "status": "ok",
     "timestamp": 1590919755912,
     "user": {
      "displayName": "San Sequeira",
      "photoUrl": "https://lh3.googleusercontent.com/a-/AOh14Gi8U-ajiW3O50jfGXl-ZWVxnF6YFijFWtNiId0=s64",
      "userId": "16413449616003649474"
     },
     "user_tz": -330
    },
    "id": "JUkw5FRrg6-5",
    "outputId": "9bcf8382-8aa9-4b78-81ee-24748d64607a"
   },
   "outputs": [
    {
     "name": "stdout",
     "output_type": "stream",
     "text": [
      "Epoch [20], val_loss: 7107.3862\n",
      "Epoch [40], val_loss: 7107.3330\n",
      "Epoch [60], val_loss: 7107.2788\n",
      "Epoch [80], val_loss: 7107.2334\n",
      "Epoch [100], val_loss: 7107.1816\n",
      "Epoch [120], val_loss: 7107.1318\n",
      "Epoch [140], val_loss: 7107.0728\n",
      "Epoch [160], val_loss: 7107.0234\n",
      "Epoch [180], val_loss: 7106.9775\n",
      "Epoch [200], val_loss: 7106.9297\n",
      "Epoch [220], val_loss: 7106.8774\n",
      "Epoch [240], val_loss: 7106.8271\n",
      "Epoch [260], val_loss: 7106.7734\n",
      "Epoch [280], val_loss: 7106.7197\n",
      "Epoch [300], val_loss: 7106.6665\n",
      "Epoch [320], val_loss: 7106.6167\n",
      "Epoch [340], val_loss: 7106.5708\n",
      "Epoch [360], val_loss: 7106.5259\n",
      "Epoch [380], val_loss: 7106.4795\n",
      "Epoch [400], val_loss: 7106.4312\n"
     ]
    }
   ],
   "source": [
    "epochs = 400\n",
    "lr = 1e-5\n",
    "history4 = fit(epochs, lr, model, train_loader, val_loader)"
   ]
  },
  {
   "cell_type": "code",
   "execution_count": 57,
   "metadata": {
    "colab": {
     "base_uri": "https://localhost:8080/",
     "height": 471
    },
    "colab_type": "code",
    "executionInfo": {
     "elapsed": 70540,
     "status": "ok",
     "timestamp": 1590919777953,
     "user": {
      "displayName": "San Sequeira",
      "photoUrl": "https://lh3.googleusercontent.com/a-/AOh14Gi8U-ajiW3O50jfGXl-ZWVxnF6YFijFWtNiId0=s64",
      "userId": "16413449616003649474"
     },
     "user_tz": -330
    },
    "id": "TVIMLhj8g6-7",
    "outputId": "d5981f17-0bbb-4b8a-add3-d94c251e0163"
   },
   "outputs": [
    {
     "name": "stdout",
     "output_type": "stream",
     "text": [
      "Epoch [20], val_loss: 7106.4282\n",
      "Epoch [40], val_loss: 7106.4224\n",
      "Epoch [60], val_loss: 7106.4189\n",
      "Epoch [80], val_loss: 7106.4146\n",
      "Epoch [100], val_loss: 7106.4111\n",
      "Epoch [120], val_loss: 7106.4058\n",
      "Epoch [140], val_loss: 7106.4014\n",
      "Epoch [160], val_loss: 7106.3975\n",
      "Epoch [180], val_loss: 7106.3911\n",
      "Epoch [200], val_loss: 7106.3862\n",
      "Epoch [220], val_loss: 7106.3794\n",
      "Epoch [240], val_loss: 7106.3740\n",
      "Epoch [260], val_loss: 7106.3687\n",
      "Epoch [280], val_loss: 7106.3633\n",
      "Epoch [300], val_loss: 7106.3604\n",
      "Epoch [320], val_loss: 7106.3540\n",
      "Epoch [340], val_loss: 7106.3496\n",
      "Epoch [360], val_loss: 7106.3467\n",
      "Epoch [380], val_loss: 7106.3364\n",
      "Epoch [400], val_loss: 7106.3286\n",
      "Epoch [420], val_loss: 7106.3198\n",
      "Epoch [440], val_loss: 7106.3213\n",
      "Epoch [460], val_loss: 7106.3140\n",
      "Epoch [480], val_loss: 7106.3101\n",
      "Epoch [500], val_loss: 7106.3032\n"
     ]
    }
   ],
   "source": [
    "epochs = 500\n",
    "lr = 1e-6\n",
    "history5 = fit(epochs, lr, model, train_loader, val_loader)"
   ]
  },
  {
   "cell_type": "markdown",
   "metadata": {
    "colab_type": "text",
    "id": "llic-vKZg6-_"
   },
   "source": [
    "**Q: What is the final validation loss of your model?**"
   ]
  },
  {
   "cell_type": "code",
   "execution_count": 58,
   "metadata": {
    "colab": {
     "base_uri": "https://localhost:8080/",
     "height": 35
    },
    "colab_type": "code",
    "executionInfo": {
     "elapsed": 70531,
     "status": "ok",
     "timestamp": 1590919777962,
     "user": {
      "displayName": "San Sequeira",
      "photoUrl": "https://lh3.googleusercontent.com/a-/AOh14Gi8U-ajiW3O50jfGXl-ZWVxnF6YFijFWtNiId0=s64",
      "userId": "16413449616003649474"
     },
     "user_tz": -330
    },
    "id": "QRZ6zikyg6-_",
    "outputId": "8a57e4d9-5b37-4f4c-ae9f-486626d8d018"
   },
   "outputs": [
    {
     "data": {
      "text/plain": [
       "{'val_loss': 7106.30322265625}"
      ]
     },
     "execution_count": 58,
     "metadata": {},
     "output_type": "execute_result"
    }
   ],
   "source": [
    "val_loss = history5[-1]\n",
    "val_loss"
   ]
  },
  {
   "cell_type": "markdown",
   "metadata": {
    "colab_type": "text",
    "id": "Dl3bHpQsg6_C"
   },
   "source": [
    "Let's log the final validation loss to Jovian and commit the notebook"
   ]
  },
  {
   "cell_type": "code",
   "execution_count": 59,
   "metadata": {
    "colab": {
     "base_uri": "https://localhost:8080/",
     "height": 35
    },
    "colab_type": "code",
    "executionInfo": {
     "elapsed": 70515,
     "status": "ok",
     "timestamp": 1590919777965,
     "user": {
      "displayName": "San Sequeira",
      "photoUrl": "https://lh3.googleusercontent.com/a-/AOh14Gi8U-ajiW3O50jfGXl-ZWVxnF6YFijFWtNiId0=s64",
      "userId": "16413449616003649474"
     },
     "user_tz": -330
    },
    "id": "8jBW5y2Xg6_D",
    "outputId": "b851b5d3-128c-4cf7-8f0d-d4554490ab8c"
   },
   "outputs": [
    {
     "name": "stdout",
     "output_type": "stream",
     "text": [
      "[jovian] Metrics logged.\u001b[0m\n"
     ]
    }
   ],
   "source": [
    "jovian.log_metrics(val_loss=val_loss)"
   ]
  },
  {
   "cell_type": "code",
   "execution_count": 60,
   "metadata": {
    "colab": {
     "base_uri": "https://localhost:8080/",
     "height": 35
    },
    "colab_type": "code",
    "executionInfo": {
     "elapsed": 70499,
     "status": "ok",
     "timestamp": 1590919777967,
     "user": {
      "displayName": "San Sequeira",
      "photoUrl": "https://lh3.googleusercontent.com/a-/AOh14Gi8U-ajiW3O50jfGXl-ZWVxnF6YFijFWtNiId0=s64",
      "userId": "16413449616003649474"
     },
     "user_tz": -330
    },
    "id": "INHwdnt2g6_F",
    "outputId": "34d7efcb-86ae-49fd-cb9d-f0f2f33b3d4c"
   },
   "outputs": [
    {
     "data": {
      "application/javascript": [
       "window.require && require([\"base/js/namespace\"],function(Jupyter){Jupyter.notebook.save_checkpoint()})"
      ],
      "text/plain": [
       "<IPython.core.display.Javascript object>"
      ]
     },
     "metadata": {},
     "output_type": "display_data"
    },
    {
     "name": "stdout",
     "output_type": "stream",
     "text": [
      "[jovian] Attempting to save notebook..\u001b[0m\n",
      "[jovian] Updating notebook \"sanlukesqra/02-insurance-linear-regression\" on https://jovian.ml/\u001b[0m\n",
      "[jovian] Uploading notebook..\u001b[0m\n",
      "[jovian] Attaching records (metrics, hyperparameters, dataset etc.)\u001b[0m\n",
      "[jovian] Committed successfully! https://jovian.ml/sanlukesqra/02-insurance-linear-regression\u001b[0m\n"
     ]
    },
    {
     "data": {
      "text/plain": [
       "'https://jovian.ml/sanlukesqra/02-insurance-linear-regression'"
      ]
     },
     "execution_count": 60,
     "metadata": {},
     "output_type": "execute_result"
    }
   ],
   "source": [
    "jovian.commit(project=project_name, environment=None)"
   ]
  },
  {
   "cell_type": "markdown",
   "metadata": {
    "colab_type": "text",
    "id": "LbIssSpug6_K"
   },
   "source": [
    "Now scroll back up, re-initialize the model, and try different set of values for batch size, number of epochs, learning rate etc. Commit each experiment and use the \"Compare\" and \"View Diff\" options on Jovian to compare the different results."
   ]
  },
  {
   "cell_type": "markdown",
   "metadata": {
    "colab_type": "text",
    "id": "qexgIKuBg6_K"
   },
   "source": [
    "## Step 5: Make predictions using the trained model\n",
    "\n",
    "**Q: Complete the following function definition to make predictions on a single input**"
   ]
  },
  {
   "cell_type": "code",
   "execution_count": 61,
   "metadata": {
    "colab": {},
    "colab_type": "code",
    "id": "-yeDc1y4g6_L"
   },
   "outputs": [],
   "source": [
    "def predict_single(inputs, target, model):\n",
    "    inputs = inputs.unsqueeze(0)\n",
    "    predictions = model(inputs)               # fill this\n",
    "    prediction = predictions[0].detach()\n",
    "    print(\"Input:\", inputs)\n",
    "    print(\"Target:\", target)\n",
    "    print(\"Prediction:\", prediction)"
   ]
  },
  {
   "cell_type": "code",
   "execution_count": 62,
   "metadata": {
    "colab": {
     "base_uri": "https://localhost:8080/",
     "height": 72
    },
    "colab_type": "code",
    "executionInfo": {
     "elapsed": 70465,
     "status": "ok",
     "timestamp": 1590919777972,
     "user": {
      "displayName": "San Sequeira",
      "photoUrl": "https://lh3.googleusercontent.com/a-/AOh14Gi8U-ajiW3O50jfGXl-ZWVxnF6YFijFWtNiId0=s64",
      "userId": "16413449616003649474"
     },
     "user_tz": -330
    },
    "id": "lopKx_u9g6_N",
    "outputId": "d84ab42c-f075-4f35-d5a6-c64189262906"
   },
   "outputs": [
    {
     "name": "stdout",
     "output_type": "stream",
     "text": [
      "Input: tensor([[51.0000,  0.0000, 33.0770,  0.0000,  0.0000]])\n",
      "Target: tensor([10211.9180])\n",
      "Prediction: tensor([11266.2168])\n"
     ]
    }
   ],
   "source": [
    "inputs, target = val_ds[0]\n",
    "predict_single(inputs, target, model)"
   ]
  },
  {
   "cell_type": "code",
   "execution_count": 63,
   "metadata": {
    "colab": {
     "base_uri": "https://localhost:8080/",
     "height": 72
    },
    "colab_type": "code",
    "executionInfo": {
     "elapsed": 70445,
     "status": "ok",
     "timestamp": 1590919777976,
     "user": {
      "displayName": "San Sequeira",
      "photoUrl": "https://lh3.googleusercontent.com/a-/AOh14Gi8U-ajiW3O50jfGXl-ZWVxnF6YFijFWtNiId0=s64",
      "userId": "16413449616003649474"
     },
     "user_tz": -330
    },
    "id": "rOljVqXTg6_Q",
    "outputId": "ef04c4bf-cdf4-48ee-ebb4-3fa9413e8875"
   },
   "outputs": [
    {
     "name": "stdout",
     "output_type": "stream",
     "text": [
      "Input: tensor([[42.0000,  0.0000, 32.1604,  1.0000,  0.0000]])\n",
      "Target: tensor([8403.3594])\n",
      "Prediction: tensor([8979.4209])\n"
     ]
    }
   ],
   "source": [
    "inputs, target = val_ds[10]\n",
    "predict_single(inputs, target, model)"
   ]
  },
  {
   "cell_type": "code",
   "execution_count": 64,
   "metadata": {
    "colab": {
     "base_uri": "https://localhost:8080/",
     "height": 72
    },
    "colab_type": "code",
    "executionInfo": {
     "elapsed": 70415,
     "status": "ok",
     "timestamp": 1590919777978,
     "user": {
      "displayName": "San Sequeira",
      "photoUrl": "https://lh3.googleusercontent.com/a-/AOh14Gi8U-ajiW3O50jfGXl-ZWVxnF6YFijFWtNiId0=s64",
      "userId": "16413449616003649474"
     },
     "user_tz": -330
    },
    "id": "a4DthxXig6_T",
    "outputId": "45e84467-62b2-4608-f15d-124ab2e17c92"
   },
   "outputs": [
    {
     "name": "stdout",
     "output_type": "stream",
     "text": [
      "Input: tensor([[38.0000,  0.0000, 39.3480,  1.0000,  0.0000]])\n",
      "Target: tensor([7010.9131])\n",
      "Prediction: tensor([7479.1768])\n"
     ]
    }
   ],
   "source": [
    "inputs, target = val_ds[23]\n",
    "predict_single(inputs, target, model)"
   ]
  },
  {
   "cell_type": "markdown",
   "metadata": {
    "colab_type": "text",
    "id": "cGmXreklg6_W"
   },
   "source": [
    "Are you happy with your model's predictions? Try to improve them further."
   ]
  },
  {
   "cell_type": "markdown",
   "metadata": {
    "colab_type": "text",
    "id": "UMhtNHsBg6_W"
   },
   "source": [
    "## (Optional) Step 6: Try another dataset & blog about it\n",
    "\n",
    "While this last step is optional for the submission of your assignment, we highly recommend that you do it. Try to clean up & replicate this notebook (or [this one](https://jovian.ml/aakashns/housing-linear-minimal), or [this one](https://jovian.ml/aakashns/mnist-logistic-minimal) ) for a different linear regression or logistic regression problem. This will help solidify your understanding, and give you a chance to differentiate the generic patters in machine learning from problem-specific details.\n",
    "\n",
    "Here are some sources to find good datasets:\n",
    "\n",
    "- https://lionbridge.ai/datasets/10-open-datasets-for-linear-regression/\n",
    "- https://www.kaggle.com/rtatman/datasets-for-regression-analysis\n",
    "- https://archive.ics.uci.edu/ml/datasets.php?format=&task=reg&att=&area=&numAtt=&numIns=&type=&sort=nameUp&view=table\n",
    "- https://people.sc.fsu.edu/~jburkardt/datasets/regression/regression.html\n",
    "- https://archive.ics.uci.edu/ml/datasets/wine+quality\n",
    "- https://pytorch.org/docs/stable/torchvision/datasets.html\n",
    "\n",
    "We also recommend that you write a blog about your approach to the problem. Here is a suggested structure for your post (feel free to experiment with it):\n",
    "\n",
    "- Interesting title & subtitle\n",
    "- Overview of what the blog covers (which dataset, linear regression or logistic regression, intro to PyTorch)\n",
    "- Downloading & exploring the data\n",
    "- Preparing the data for training\n",
    "- Creating a model using PyTorch\n",
    "- Training the model to fit the data\n",
    "- Your thoughts on how to experiment with different hyperparmeters to reduce loss\n",
    "- Making predictions using the model\n",
    "\n",
    "As with the previous assignment, you can [embed Juptyer notebook cells & outputs from Jovian](https://medium.com/jovianml/share-and-embed-jupyter-notebooks-online-with-jovian-ml-df709a03064e) into your blog. \n",
    "\n",
    "Don't forget to share your work on the forum: https://jovian.ml/forum/t/share-your-work-here-assignment-2/4931"
   ]
  },
  {
   "cell_type": "code",
   "execution_count": null,
   "metadata": {
    "colab": {
     "base_uri": "https://localhost:8080/",
     "height": 53
    },
    "colab_type": "code",
    "executionInfo": {
     "elapsed": 70403,
     "status": "ok",
     "timestamp": 1590919777983,
     "user": {
      "displayName": "San Sequeira",
      "photoUrl": "https://lh3.googleusercontent.com/a-/AOh14Gi8U-ajiW3O50jfGXl-ZWVxnF6YFijFWtNiId0=s64",
      "userId": "16413449616003649474"
     },
     "user_tz": -330
    },
    "id": "SKf9S0S6g6_X",
    "outputId": "3c36f50f-22b5-4bc2-a0e0-b68fc3851873"
   },
   "outputs": [
    {
     "data": {
      "application/javascript": [
       "window.require && require([\"base/js/namespace\"],function(Jupyter){Jupyter.notebook.save_checkpoint()})"
      ],
      "text/plain": [
       "<IPython.core.display.Javascript object>"
      ]
     },
     "metadata": {},
     "output_type": "display_data"
    },
    {
     "name": "stdout",
     "output_type": "stream",
     "text": [
      "[jovian] Attempting to save notebook..\u001b[0m\n",
      "[jovian] Updating notebook \"sanlukesqra/02-insurance-linear-regression\" on https://jovian.ml/\u001b[0m\n",
      "[jovian] Uploading notebook..\u001b[0m\n"
     ]
    }
   ],
   "source": [
    "jovian.commit(project=project_name, environment=None)\n",
    "jovian.commit(project=project_name, environment=None) # try again, kaggle fails sometimes"
   ]
  },
  {
   "cell_type": "code",
   "execution_count": null,
   "metadata": {
    "colab": {},
    "colab_type": "code",
    "id": "CvRvDtybg6_c"
   },
   "outputs": [],
   "source": []
  }
 ],
 "metadata": {
  "colab": {
   "collapsed_sections": [
    "UMhtNHsBg6_W"
   ],
   "name": "02-insurance-linear.ipynb",
   "provenance": [
    {
     "file_id": "1e5-GYavPM7X9v5lsOrr0G0T-R8j0UQyZ",
     "timestamp": 1590908188629
    }
   ]
  },
  "kernelspec": {
   "display_name": "Python 3",
   "language": "python",
   "name": "python3"
  },
  "language_info": {
   "codemirror_mode": {
    "name": "ipython",
    "version": 3
   },
   "file_extension": ".py",
   "mimetype": "text/x-python",
   "name": "python",
   "nbconvert_exporter": "python",
   "pygments_lexer": "ipython3",
   "version": "3.7.6"
  }
 },
 "nbformat": 4,
 "nbformat_minor": 1
}
