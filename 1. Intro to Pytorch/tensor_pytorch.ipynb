{
 "cells": [
  {
   "cell_type": "markdown",
   "metadata": {},
   "source": [
    "# Tenor functions with Pytorch\n",
    "\n",
    "### Torch up your tensor game\n",
    "\n",
    "The following 5 functions might empower you to navigate through your Deep Learning endeavours with Pytorch \n",
    "- torch.diag()\n",
    "- torch.inverse()\n",
    "- torch.randn()\n",
    "- torch.zeros_like()\n",
    "- torch.arange()"
   ]
  },
  {
   "cell_type": "code",
   "execution_count": 12,
   "metadata": {},
   "outputs": [],
   "source": [
    "# Import torch and other required modules\n",
    "import torch"
   ]
  },
  {
   "cell_type": "markdown",
   "metadata": {},
   "source": [
    "## Function 1 - torch.diag()\n",
    "\n",
    "Given some tensor, the above method returns it's diagonal(s).\n",
    "The arguments to the function are as follows: \n",
    "\n",
    "### torch.diag(input, diagonal=0, output=None)\n",
    "\n",
    "diagonal and output are optional paramenters.\n",
    "\n",
    "1. If diagonal = 0, it is the main diagonal. (Principal diagonal)\n",
    "\n",
    "2. If diagonal > 0, it is above the main diagonal.\n",
    "\n",
    "3. If diagonal < 0, it is below the main diagonal."
   ]
  },
  {
   "cell_type": "code",
   "execution_count": 13,
   "metadata": {},
   "outputs": [
    {
     "name": "stdout",
     "output_type": "stream",
     "text": [
      "diagonal of scalar:  tensor([[99]]) \n",
      "\n",
      "diagonal of vector: \n",
      " tensor([[1, 0, 0, 0],\n",
      "        [0, 2, 0, 0],\n",
      "        [0, 0, 3, 0],\n",
      "        [0, 0, 0, 4]])\n"
     ]
    }
   ],
   "source": [
    "# Example 1 - working \n",
    "\n",
    "scalar = torch.diag(torch.tensor([99]))\n",
    "print('diagonal of scalar: ', scalar, '\\n')     # returns scalar as is\n",
    "\n",
    "vector = torch.diag(torch.tensor([1,2,3,4]))    # 1D tensor(Vector)\n",
    "print('diagonal of vector: \\n',vector)          # return square matrix with upper and lower \n",
    "                                                # triangular sections imputed with 0's"
   ]
  },
  {
   "cell_type": "markdown",
   "metadata": {},
   "source": [
    "The above returns diagonals for scalars (the value itself) and vectors (in the form of a square matrix) "
   ]
  },
  {
   "cell_type": "code",
   "execution_count": 14,
   "metadata": {},
   "outputs": [
    {
     "name": "stdout",
     "output_type": "stream",
     "text": [
      "diagonal of matrix:  tensor([1, 5, 9]) \n",
      "\n",
      "mat1:  tensor([2, 6])\n"
     ]
    }
   ],
   "source": [
    "# Example 2 - working\n",
    "matrix = torch.diag(torch.tensor([[1,2,3],[4,5,6], [7,8,9]]))   # 3x3 matrix\n",
    "print('diagonal of matrix: ', matrix, '\\n')                     # returns the diagonal as is\n",
    "\n",
    "mat1 = torch.diag(torch.tensor([[1,2,3],[4,5,6], [7,8,9]]), diagonal=1) \n",
    "print(\"mat1: \", mat1)   # returns diagonal above the principal diagonal of the matrix"
   ]
  },
  {
   "cell_type": "markdown",
   "metadata": {},
   "source": [
    "The first example upon running simply returns the principal diagonal(PD) of the matrix.\n",
    "The second example returns the diagonal above the PD of the matrix found the uppe triangular region."
   ]
  },
  {
   "cell_type": "code",
   "execution_count": 15,
   "metadata": {},
   "outputs": [
    {
     "ename": "RuntimeError",
     "evalue": "invalid argument 1: matrix or a vector expected at /opt/conda/conda-bld/pytorch_1587428190859/work/aten/src/TH/generic/THTensorMoreMath.cpp:319",
     "output_type": "error",
     "traceback": [
      "\u001b[0;31m---------------------------------------------------------------------------\u001b[0m",
      "\u001b[0;31mRuntimeError\u001b[0m                              Traceback (most recent call last)",
      "\u001b[0;32m<ipython-input-15-bf751d928972>\u001b[0m in \u001b[0;36m<module>\u001b[0;34m\u001b[0m\n\u001b[1;32m      1\u001b[0m \u001b[0;31m# Example 3 - breaking (to illustrate when it breaks)\u001b[0m\u001b[0;34m\u001b[0m\u001b[0;34m\u001b[0m\u001b[0;34m\u001b[0m\u001b[0m\n\u001b[0;32m----> 2\u001b[0;31m \u001b[0mtensor\u001b[0m \u001b[0;34m=\u001b[0m \u001b[0mtorch\u001b[0m\u001b[0;34m.\u001b[0m\u001b[0mdiag\u001b[0m\u001b[0;34m(\u001b[0m\u001b[0mtorch\u001b[0m\u001b[0;34m.\u001b[0m\u001b[0mrandn\u001b[0m\u001b[0;34m(\u001b[0m\u001b[0;36m2\u001b[0m\u001b[0;34m,\u001b[0m\u001b[0;36m3\u001b[0m\u001b[0;34m,\u001b[0m\u001b[0;36m32\u001b[0m\u001b[0;34m,\u001b[0m\u001b[0;36m32\u001b[0m\u001b[0;34m)\u001b[0m\u001b[0;34m)\u001b[0m\u001b[0;34m\u001b[0m\u001b[0;34m\u001b[0m\u001b[0m\n\u001b[0m\u001b[1;32m      3\u001b[0m \u001b[0mprint\u001b[0m\u001b[0;34m(\u001b[0m\u001b[0;34m\"tensor: \"\u001b[0m\u001b[0;34m,\u001b[0m \u001b[0mtensor\u001b[0m\u001b[0;34m)\u001b[0m \u001b[0;31m#  tries to return diagonal of dim > 2 tensor but it isn't possible\u001b[0m\u001b[0;34m\u001b[0m\u001b[0;34m\u001b[0m\u001b[0m\n",
      "\u001b[0;31mRuntimeError\u001b[0m: invalid argument 1: matrix or a vector expected at /opt/conda/conda-bld/pytorch_1587428190859/work/aten/src/TH/generic/THTensorMoreMath.cpp:319"
     ]
    }
   ],
   "source": [
    "# Example 3 - breaking (to illustrate when it breaks)\n",
    "tensor = torch.diag(torch.randn(2,3,32,32))\n",
    "print(\"tensor: \", tensor) #  tries to return diagonal of dim > 2 tensor but it isn't possible"
   ]
  },
  {
   "cell_type": "markdown",
   "metadata": {},
   "source": [
    "Higher order tensors, i.e of dimensions above 2D aren't processed to return a diagonal as there can be numerous combinations of choosing one."
   ]
  },
  {
   "cell_type": "markdown",
   "metadata": {},
   "source": [
    "Matrix decompositons are invaluable in DL and this method can be availed of in computing for diagonals. An example of this use case would be in SVD (Singular Value Decomposition)."
   ]
  },
  {
   "cell_type": "markdown",
   "metadata": {},
   "source": [
    "## Function 2 - torch.inverse()\n",
    "\n",
    "torch.inverse(input, output=None)\n",
    "\n",
    "Takes the inverse of the square matrix input. Batches of 2D tensors to this function would return tensor composed of individual inverses."
   ]
  },
  {
   "cell_type": "code",
   "execution_count": 16,
   "metadata": {},
   "outputs": [
    {
     "data": {
      "text/plain": [
       "tensor([[-2.2776, -3.0427, -0.3800],\n",
       "        [-2.3478, -2.4279,  0.4850],\n",
       "        [ 1.4135,  1.1857,  0.7018]])"
      ]
     },
     "execution_count": 16,
     "metadata": {},
     "output_type": "execute_result"
    }
   ],
   "source": [
    "# Example 1 - working\n",
    "tensor = torch.randn(3,3)  \n",
    "torch.inverse(tensor)"
   ]
  },
  {
   "cell_type": "markdown",
   "metadata": {},
   "source": [
    "Input should be in the form of a square matrix."
   ]
  },
  {
   "cell_type": "code",
   "execution_count": 17,
   "metadata": {},
   "outputs": [
    {
     "data": {
      "text/plain": [
       "tensor([[[-9.1619e-01,  5.5130e+00, -1.0190e+00],\n",
       "         [-6.1173e-01,  3.3946e-01, -1.0184e-01],\n",
       "         [-2.2245e-01,  1.1796e+00,  2.4493e-01]],\n",
       "\n",
       "        [[-8.0774e-01,  3.4553e-01, -5.4602e-01],\n",
       "         [ 1.2442e+00, -1.0063e+00, -1.3885e+00],\n",
       "         [ 1.7030e+00, -4.8550e-01, -5.1311e-01]],\n",
       "\n",
       "        [[-1.0956e+01, -5.1598e+00, -5.0233e+00],\n",
       "         [-1.3625e+02, -6.6060e+01, -5.5984e+01],\n",
       "         [ 7.6127e+01,  3.7422e+01,  3.1592e+01]]])"
      ]
     },
     "execution_count": 17,
     "metadata": {},
     "output_type": "execute_result"
    }
   ],
   "source": [
    "# Example 2 - working\n",
    "tensor = torch.randn(3,3,3)\n",
    "torch.inverse(tensor)"
   ]
  },
  {
   "cell_type": "markdown",
   "metadata": {},
   "source": [
    "The output tensor is a composition of individual inverses of the square matrix within the input matrix."
   ]
  },
  {
   "cell_type": "code",
   "execution_count": 18,
   "metadata": {},
   "outputs": [
    {
     "ename": "RuntimeError",
     "evalue": "A must be batches of square matrices, but they are 3 by 1 matrices",
     "output_type": "error",
     "traceback": [
      "\u001b[0;31m---------------------------------------------------------------------------\u001b[0m",
      "\u001b[0;31mRuntimeError\u001b[0m                              Traceback (most recent call last)",
      "\u001b[0;32m<ipython-input-18-86024f4d4816>\u001b[0m in \u001b[0;36m<module>\u001b[0;34m\u001b[0m\n\u001b[1;32m      1\u001b[0m \u001b[0;31m# Example 3 - breaking (to illustrate when it breaks)\u001b[0m\u001b[0;34m\u001b[0m\u001b[0;34m\u001b[0m\u001b[0;34m\u001b[0m\u001b[0m\n\u001b[1;32m      2\u001b[0m \u001b[0mtensor\u001b[0m \u001b[0;34m=\u001b[0m \u001b[0mtorch\u001b[0m\u001b[0;34m.\u001b[0m\u001b[0mrandn\u001b[0m\u001b[0;34m(\u001b[0m\u001b[0;36m2\u001b[0m\u001b[0;34m,\u001b[0m\u001b[0;36m1\u001b[0m\u001b[0;34m,\u001b[0m\u001b[0;36m3\u001b[0m\u001b[0;34m)\u001b[0m\u001b[0;34m\u001b[0m\u001b[0;34m\u001b[0m\u001b[0m\n\u001b[0;32m----> 3\u001b[0;31m \u001b[0mtorch\u001b[0m\u001b[0;34m.\u001b[0m\u001b[0minverse\u001b[0m\u001b[0;34m(\u001b[0m\u001b[0mtensor\u001b[0m\u001b[0;34m)\u001b[0m\u001b[0;34m\u001b[0m\u001b[0;34m\u001b[0m\u001b[0m\n\u001b[0m",
      "\u001b[0;31mRuntimeError\u001b[0m: A must be batches of square matrices, but they are 3 by 1 matrices"
     ]
    }
   ],
   "source": [
    "# Example 3 - breaking (to illustrate when it breaks)\n",
    "tensor = torch.randn(2,1,3)\n",
    "torch.inverse(tensor)"
   ]
  },
  {
   "cell_type": "markdown",
   "metadata": {},
   "source": [
    "Since the input tensor does not within itself contain batches of square matrices an error is raised for its non-invertibility (in this case)."
   ]
  },
  {
   "cell_type": "markdown",
   "metadata": {},
   "source": [
    "Theta = (X^(T)X)^(-1).(X^(T)y) - is the normal equation for to find the parameter value for the Linear Regression algorithm.\n",
    "The above torch.inverse() method can be used in its computation."
   ]
  },
  {
   "cell_type": "markdown",
   "metadata": {},
   "source": [
    "## Function 3 - torch.randn()\n",
    "\n",
    "One of the most sort after functions to initialize a tensor to values of the normal distribution."
   ]
  },
  {
   "cell_type": "code",
   "execution_count": 19,
   "metadata": {},
   "outputs": [
    {
     "name": "stdout",
     "output_type": "stream",
     "text": [
      "scalar:  tensor([-0.1876]) \n",
      "\n",
      "vector:  tensor([-0.7381,  0.0672, -0.8744,  0.0247])\n"
     ]
    }
   ],
   "source": [
    "# Example 1 - working\n",
    "scalar = torch.randn(1)\n",
    "print('scalar: ', scalar, '\\n')\n",
    "\n",
    "vector = torch.randn(4)\n",
    "print('vector: ', vector)"
   ]
  },
  {
   "cell_type": "markdown",
   "metadata": {},
   "source": [
    "Generates random values from the normal distribution and assignes it to the above 0 and 1 dimensional tensors."
   ]
  },
  {
   "cell_type": "code",
   "execution_count": 20,
   "metadata": {},
   "outputs": [
    {
     "name": "stdout",
     "output_type": "stream",
     "text": [
      "matrix:  tensor([[-0.2334,  0.2195, -0.0269,  0.7845],\n",
      "        [-0.0449,  0.3875, -0.4712, -0.3937],\n",
      "        [ 0.2163, -0.6599,  0.6185,  0.3160]]) \n",
      "\n",
      "tensor:  tensor([[[ 0.3230, -0.3016,  0.1979,  0.7916],\n",
      "         [ 2.4401, -1.2157,  1.5754,  0.3830],\n",
      "         [ 0.8756,  0.5772,  1.7545, -1.6390]],\n",
      "\n",
      "        [[-0.1001, -1.3523,  0.0437,  1.1271],\n",
      "         [ 0.6302,  1.1315,  0.1062,  0.7886],\n",
      "         [ 1.9212, -0.2779, -1.2201,  0.6601]]])\n"
     ]
    }
   ],
   "source": [
    "# Example 2 - working\n",
    "matrix = torch.randn(3,4)\n",
    "print('matrix: ', matrix, '\\n')\n",
    "\n",
    "tensor = torch.randn(2,3,4)\n",
    "print('tensor: ', tensor)"
   ]
  },
  {
   "cell_type": "markdown",
   "metadata": {},
   "source": [
    "Generates random values from the normal distribution and assignes it to the above 2 and 3 dimensional tensors."
   ]
  },
  {
   "cell_type": "code",
   "execution_count": 21,
   "metadata": {},
   "outputs": [
    {
     "ename": "RuntimeError",
     "evalue": "Trying to create tensor with negative dimension -1: [-1, 0, 0]",
     "output_type": "error",
     "traceback": [
      "\u001b[0;31m---------------------------------------------------------------------------\u001b[0m",
      "\u001b[0;31mRuntimeError\u001b[0m                              Traceback (most recent call last)",
      "\u001b[0;32m<ipython-input-21-f2fe106f0fa1>\u001b[0m in \u001b[0;36m<module>\u001b[0;34m\u001b[0m\n\u001b[1;32m      1\u001b[0m \u001b[0;31m# Example 3 - breaking (to illustrate when it breaks)\u001b[0m\u001b[0;34m\u001b[0m\u001b[0;34m\u001b[0m\u001b[0;34m\u001b[0m\u001b[0m\n\u001b[0;32m----> 2\u001b[0;31m \u001b[0mtensor\u001b[0m \u001b[0;34m=\u001b[0m \u001b[0mtorch\u001b[0m\u001b[0;34m.\u001b[0m\u001b[0mrandn\u001b[0m\u001b[0;34m(\u001b[0m\u001b[0;34m-\u001b[0m\u001b[0;36m1\u001b[0m\u001b[0;34m,\u001b[0m\u001b[0;36m0\u001b[0m\u001b[0;34m,\u001b[0m\u001b[0;36m0\u001b[0m\u001b[0;34m)\u001b[0m\u001b[0;34m\u001b[0m\u001b[0;34m\u001b[0m\u001b[0m\n\u001b[0m\u001b[1;32m      3\u001b[0m \u001b[0mprint\u001b[0m\u001b[0;34m(\u001b[0m\u001b[0;34m'tensor: '\u001b[0m\u001b[0;34m,\u001b[0m \u001b[0mtensor\u001b[0m\u001b[0;34m)\u001b[0m\u001b[0;34m\u001b[0m\u001b[0;34m\u001b[0m\u001b[0m\n",
      "\u001b[0;31mRuntimeError\u001b[0m: Trying to create tensor with negative dimension -1: [-1, 0, 0]"
     ]
    }
   ],
   "source": [
    "# Example 3 - breaking (to illustrate when it breaks)\n",
    "tensor = torch.randn(-1,0,0)\n",
    "print('tensor: ', tensor)"
   ]
  },
  {
   "cell_type": "markdown",
   "metadata": {},
   "source": [
    "Specified dimensions given to the torch.randn() method have to be Natural Numbers, which is obvious."
   ]
  },
  {
   "cell_type": "markdown",
   "metadata": {},
   "source": [
    "This method is handy when any tensor is to be initialized before performing any operations. Example of this would be to initialise the weights of the matrix of every layer of a neural network, randomly before performing backpropogation."
   ]
  },
  {
   "cell_type": "markdown",
   "metadata": {},
   "source": [
    "## Function 4 - torch.zeros_like()\n",
    "\n",
    "The above method takes in a tensor, and given that input's dimensionalty it creates a corressponding tensor of the same shape, but with zeros all over."
   ]
  },
  {
   "cell_type": "code",
   "execution_count": 22,
   "metadata": {},
   "outputs": [
    {
     "name": "stdout",
     "output_type": "stream",
     "text": [
      "zero_like for scalar:  tensor([0.]) \n",
      "\n",
      "zero_like for vector:  tensor([0., 0., 0., 0.])\n"
     ]
    }
   ],
   "source": [
    "# Example 1 - working\n",
    "scal = torch.randn(1)\n",
    "scal_zero = torch.zeros_like(scal)\n",
    "print(\"zero_like for scalar: \", scal_zero, '\\n')\n",
    "\n",
    "vec = torch.randn(4)\n",
    "vec_z = torch.zeros_like(vec)\n",
    "print(\"zero_like for vector: \", vec_z)"
   ]
  },
  {
   "cell_type": "markdown",
   "metadata": {},
   "source": [
    "Corresponding zero tensors are produced with the given input tensor."
   ]
  },
  {
   "cell_type": "code",
   "execution_count": 23,
   "metadata": {},
   "outputs": [
    {
     "name": "stdout",
     "output_type": "stream",
     "text": [
      "zero_like for matrix:  tensor([[0., 0., 0.],\n",
      "        [0., 0., 0.]]) \n",
      "\n",
      "zero_like for 3D tensor:  tensor([[[0., 0., 0., 0.],\n",
      "         [0., 0., 0., 0.],\n",
      "         [0., 0., 0., 0.]],\n",
      "\n",
      "        [[0., 0., 0., 0.],\n",
      "         [0., 0., 0., 0.],\n",
      "         [0., 0., 0., 0.]]]) \n",
      "\n"
     ]
    }
   ],
   "source": [
    "# Example 2 - working\n",
    "mat = torch.randn(2,3)\n",
    "mat_z = torch.zeros_like(mat)\n",
    "print(\"zero_like for matrix: \", mat_z, '\\n')\n",
    "\n",
    "ten = torch.randn(2,3,4)\n",
    "ten_z = torch.zeros_like(ten)\n",
    "print(\"zero_like for 3D tensor: \", ten_z, '\\n')"
   ]
  },
  {
   "cell_type": "markdown",
   "metadata": {},
   "source": [
    "Explanation about example"
   ]
  },
  {
   "cell_type": "code",
   "execution_count": 24,
   "metadata": {},
   "outputs": [
    {
     "ename": "RuntimeError",
     "evalue": "size mismatch, [2 x 3], [4] at /opt/conda/conda-bld/pytorch_1587428190859/work/aten/src/TH/generic/THTensorMath.cpp:193",
     "output_type": "error",
     "traceback": [
      "\u001b[0;31m---------------------------------------------------------------------------\u001b[0m",
      "\u001b[0;31mRuntimeError\u001b[0m                              Traceback (most recent call last)",
      "\u001b[0;32m<ipython-input-24-7da538cb4da6>\u001b[0m in \u001b[0;36m<module>\u001b[0;34m\u001b[0m\n\u001b[1;32m      1\u001b[0m \u001b[0;31m# Example 3 - breaking (to illustrate when it breaks)\u001b[0m\u001b[0;34m\u001b[0m\u001b[0;34m\u001b[0m\u001b[0;34m\u001b[0m\u001b[0m\n\u001b[0;32m----> 2\u001b[0;31m \u001b[0mten_Z\u001b[0m \u001b[0;34m=\u001b[0m \u001b[0mtorch\u001b[0m\u001b[0;34m.\u001b[0m\u001b[0mzeros_like\u001b[0m\u001b[0;34m(\u001b[0m\u001b[0mmat\u001b[0m \u001b[0;34m@\u001b[0m \u001b[0mvec\u001b[0m\u001b[0;34m)\u001b[0m\u001b[0;34m\u001b[0m\u001b[0;34m\u001b[0m\u001b[0m\n\u001b[0m\u001b[1;32m      3\u001b[0m \u001b[0mten_z\u001b[0m\u001b[0;34m\u001b[0m\u001b[0;34m\u001b[0m\u001b[0m\n",
      "\u001b[0;31mRuntimeError\u001b[0m: size mismatch, [2 x 3], [4] at /opt/conda/conda-bld/pytorch_1587428190859/work/aten/src/TH/generic/THTensorMath.cpp:193"
     ]
    }
   ],
   "source": [
    "# Example 3 - breaking (to illustrate when it breaks)\n",
    "ten_Z = torch.zeros_like(mat @ vec)\n",
    "ten_z"
   ]
  },
  {
   "cell_type": "markdown",
   "metadata": {},
   "source": [
    "torch_zeros_like() is a pretty full proof method, only a nonsensical input will give rise to error."
   ]
  },
  {
   "cell_type": "markdown",
   "metadata": {},
   "source": [
    "Handy way to initialize tensors to zeros with the demensions of another tensor."
   ]
  },
  {
   "cell_type": "markdown",
   "metadata": {},
   "source": [
    "## Function 5 - torch.arange()\n",
    "\n",
    "Returns a 1D tensor of the interval of [start, end) with the given step size"
   ]
  },
  {
   "cell_type": "code",
   "execution_count": 25,
   "metadata": {},
   "outputs": [
    {
     "data": {
      "text/plain": [
       "tensor([0.0000, 0.1000, 0.2000, 0.3000, 0.4000, 0.5000, 0.6000, 0.7000, 0.8000,\n",
       "        0.9000, 1.0000, 1.1000, 1.2000, 1.3000, 1.4000, 1.5000, 1.6000, 1.7000,\n",
       "        1.8000, 1.9000, 2.0000, 2.1000, 2.2000, 2.3000, 2.4000, 2.5000, 2.6000,\n",
       "        2.7000, 2.8000, 2.9000, 3.0000, 3.1000, 3.2000, 3.3000, 3.4000, 3.5000,\n",
       "        3.6000, 3.7000, 3.8000, 3.9000, 4.0000, 4.1000, 4.2000, 4.3000, 4.4000,\n",
       "        4.5000, 4.6000, 4.7000, 4.8000, 4.9000])"
      ]
     },
     "execution_count": 25,
     "metadata": {},
     "output_type": "execute_result"
    }
   ],
   "source": [
    "# Example 1 - working\n",
    "t = torch.arange(0, 5, 0.1)\n",
    "t"
   ]
  },
  {
   "cell_type": "markdown",
   "metadata": {},
   "source": [
    "Returns a tensor with all the values within the range, given the step size."
   ]
  },
  {
   "cell_type": "code",
   "execution_count": 26,
   "metadata": {},
   "outputs": [
    {
     "data": {
      "text/plain": [
       "tensor([0.0000, 0.0100, 0.0200, 0.0300, 0.0400, 0.0500, 0.0600, 0.0700, 0.0800,\n",
       "        0.0900, 0.1000, 0.1100, 0.1200, 0.1300, 0.1400, 0.1500, 0.1600, 0.1700,\n",
       "        0.1800, 0.1900, 0.2000, 0.2100, 0.2200, 0.2300, 0.2400, 0.2500, 0.2600,\n",
       "        0.2700, 0.2800, 0.2900, 0.3000, 0.3100, 0.3200, 0.3300, 0.3400, 0.3500,\n",
       "        0.3600, 0.3700, 0.3800, 0.3900, 0.4000, 0.4100, 0.4200, 0.4300, 0.4400,\n",
       "        0.4500, 0.4600, 0.4700, 0.4800, 0.4900, 0.5000, 0.5100, 0.5200, 0.5300,\n",
       "        0.5400, 0.5500, 0.5600, 0.5700, 0.5800, 0.5900, 0.6000, 0.6100, 0.6200,\n",
       "        0.6300, 0.6400, 0.6500, 0.6600, 0.6700, 0.6800, 0.6900, 0.7000, 0.7100,\n",
       "        0.7200, 0.7300, 0.7400, 0.7500, 0.7600, 0.7700, 0.7800, 0.7900, 0.8000,\n",
       "        0.8100, 0.8200, 0.8300, 0.8400, 0.8500, 0.8600, 0.8700, 0.8800, 0.8900,\n",
       "        0.9000, 0.9100, 0.9200, 0.9300, 0.9400, 0.9500, 0.9600, 0.9700, 0.9800,\n",
       "        0.9900, 1.0000, 1.0100, 1.0200, 1.0300, 1.0400, 1.0500, 1.0600, 1.0700,\n",
       "        1.0800, 1.0900, 1.1000, 1.1100, 1.1200, 1.1300, 1.1400, 1.1500, 1.1600,\n",
       "        1.1700, 1.1800, 1.1900, 1.2000, 1.2100, 1.2200, 1.2300, 1.2400, 1.2500,\n",
       "        1.2600, 1.2700, 1.2800, 1.2900, 1.3000, 1.3100, 1.3200, 1.3300, 1.3400,\n",
       "        1.3500, 1.3600, 1.3700, 1.3800, 1.3900, 1.4000, 1.4100, 1.4200, 1.4300,\n",
       "        1.4400, 1.4500, 1.4600, 1.4700, 1.4800, 1.4900, 1.5000, 1.5100, 1.5200,\n",
       "        1.5300, 1.5400, 1.5500, 1.5600, 1.5700, 1.5800, 1.5900, 1.6000, 1.6100,\n",
       "        1.6200, 1.6300, 1.6400, 1.6500, 1.6600, 1.6700, 1.6800, 1.6900, 1.7000,\n",
       "        1.7100, 1.7200, 1.7300, 1.7400, 1.7500, 1.7600, 1.7700, 1.7800, 1.7900,\n",
       "        1.8000, 1.8100, 1.8200, 1.8300, 1.8400, 1.8500, 1.8600, 1.8700, 1.8800,\n",
       "        1.8900, 1.9000, 1.9100, 1.9200, 1.9300, 1.9400, 1.9500, 1.9600, 1.9700,\n",
       "        1.9800, 1.9900, 2.0000, 2.0100, 2.0200, 2.0300, 2.0400, 2.0500, 2.0600,\n",
       "        2.0700, 2.0800, 2.0900, 2.1000, 2.1100, 2.1200, 2.1300, 2.1400, 2.1500,\n",
       "        2.1600, 2.1700, 2.1800, 2.1900, 2.2000, 2.2100, 2.2200, 2.2300, 2.2400,\n",
       "        2.2500, 2.2600, 2.2700, 2.2800, 2.2900, 2.3000, 2.3100, 2.3200, 2.3300,\n",
       "        2.3400, 2.3500, 2.3600, 2.3700, 2.3800, 2.3900, 2.4000, 2.4100, 2.4200,\n",
       "        2.4300, 2.4400, 2.4500, 2.4600, 2.4700, 2.4800, 2.4900, 2.5000, 2.5100,\n",
       "        2.5200, 2.5300, 2.5400, 2.5500, 2.5600, 2.5700, 2.5800, 2.5900, 2.6000,\n",
       "        2.6100, 2.6200, 2.6300, 2.6400, 2.6500, 2.6600, 2.6700, 2.6800, 2.6900,\n",
       "        2.7000, 2.7100, 2.7200, 2.7300, 2.7400, 2.7500, 2.7600, 2.7700, 2.7800,\n",
       "        2.7900, 2.8000, 2.8100, 2.8200, 2.8300, 2.8400, 2.8500, 2.8600, 2.8700,\n",
       "        2.8800, 2.8900, 2.9000, 2.9100, 2.9200, 2.9300, 2.9400, 2.9500, 2.9600,\n",
       "        2.9700, 2.9800, 2.9900, 3.0000, 3.0100, 3.0200, 3.0300, 3.0400, 3.0500,\n",
       "        3.0600, 3.0700, 3.0800, 3.0900, 3.1000, 3.1100, 3.1200, 3.1300, 3.1400,\n",
       "        3.1500, 3.1600, 3.1700, 3.1800, 3.1900, 3.2000, 3.2100, 3.2200, 3.2300,\n",
       "        3.2400, 3.2500, 3.2600, 3.2700, 3.2800, 3.2900, 3.3000, 3.3100, 3.3200,\n",
       "        3.3300, 3.3400, 3.3500, 3.3600, 3.3700, 3.3800, 3.3900, 3.4000, 3.4100,\n",
       "        3.4200, 3.4300, 3.4400, 3.4500, 3.4600, 3.4700, 3.4800, 3.4900, 3.5000,\n",
       "        3.5100, 3.5200, 3.5300, 3.5400, 3.5500, 3.5600, 3.5700, 3.5800, 3.5900,\n",
       "        3.6000, 3.6100, 3.6200, 3.6300, 3.6400, 3.6500, 3.6600, 3.6700, 3.6800,\n",
       "        3.6900, 3.7000, 3.7100, 3.7200, 3.7300, 3.7400, 3.7500, 3.7600, 3.7700,\n",
       "        3.7800, 3.7900, 3.8000, 3.8100, 3.8200, 3.8300, 3.8400, 3.8500, 3.8600,\n",
       "        3.8700, 3.8800, 3.8900, 3.9000, 3.9100, 3.9200, 3.9300, 3.9400, 3.9500,\n",
       "        3.9600, 3.9700, 3.9800, 3.9900, 4.0000, 4.0100, 4.0200, 4.0300, 4.0400,\n",
       "        4.0500, 4.0600, 4.0700, 4.0800, 4.0900, 4.1000, 4.1100, 4.1200, 4.1300,\n",
       "        4.1400, 4.1500, 4.1600, 4.1700, 4.1800, 4.1900, 4.2000, 4.2100, 4.2200,\n",
       "        4.2300, 4.2400, 4.2500, 4.2600, 4.2700, 4.2800, 4.2900, 4.3000, 4.3100,\n",
       "        4.3200, 4.3300, 4.3400, 4.3500, 4.3600, 4.3700, 4.3800, 4.3900, 4.4000,\n",
       "        4.4100, 4.4200, 4.4300, 4.4400, 4.4500, 4.4600, 4.4700, 4.4800, 4.4900,\n",
       "        4.5000, 4.5100, 4.5200, 4.5300, 4.5400, 4.5500, 4.5600, 4.5700, 4.5800,\n",
       "        4.5900, 4.6000, 4.6100, 4.6200, 4.6300, 4.6400, 4.6500, 4.6600, 4.6700,\n",
       "        4.6800, 4.6900, 4.7000, 4.7100, 4.7200, 4.7300, 4.7400, 4.7500, 4.7600,\n",
       "        4.7700, 4.7800, 4.7900, 4.8000, 4.8100, 4.8200, 4.8300, 4.8400, 4.8500,\n",
       "        4.8600, 4.8700, 4.8800, 4.8900, 4.9000, 4.9100, 4.9200, 4.9300, 4.9400,\n",
       "        4.9500, 4.9600, 4.9700, 4.9800, 4.9900])"
      ]
     },
     "execution_count": 26,
     "metadata": {},
     "output_type": "execute_result"
    }
   ],
   "source": [
    "# Example 2 - working\n",
    "tt = torch.arange(0, 5, 0.01)\n",
    "\n",
    "tt"
   ]
  },
  {
   "cell_type": "markdown",
   "metadata": {},
   "source": [
    "Returns a 1D tensor with all the values in the range with a smaller step size."
   ]
  },
  {
   "cell_type": "code",
   "execution_count": 27,
   "metadata": {},
   "outputs": [
    {
     "ename": "RuntimeError",
     "evalue": "invalid size, possible overflow?",
     "output_type": "error",
     "traceback": [
      "\u001b[0;31m---------------------------------------------------------------------------\u001b[0m",
      "\u001b[0;31mRuntimeError\u001b[0m                              Traceback (most recent call last)",
      "\u001b[0;32m<ipython-input-27-0d9d859d875f>\u001b[0m in \u001b[0;36m<module>\u001b[0;34m\u001b[0m\n\u001b[1;32m      1\u001b[0m \u001b[0;31m# Example 3 - breaking (to illustrate when it breaks)\u001b[0m\u001b[0;34m\u001b[0m\u001b[0;34m\u001b[0m\u001b[0;34m\u001b[0m\u001b[0m\n\u001b[0;32m----> 2\u001b[0;31m \u001b[0mt\u001b[0m \u001b[0;34m=\u001b[0m \u001b[0mtorch\u001b[0m\u001b[0;34m.\u001b[0m\u001b[0marange\u001b[0m\u001b[0;34m(\u001b[0m\u001b[0;36m0\u001b[0m\u001b[0;34m,\u001b[0m \u001b[0;36m5\u001b[0m\u001b[0;34m,\u001b[0m \u001b[0;36m0.0000000000000000000000000000000000001\u001b[0m\u001b[0;34m)\u001b[0m\u001b[0;34m\u001b[0m\u001b[0;34m\u001b[0m\u001b[0m\n\u001b[0m\u001b[1;32m      3\u001b[0m \u001b[0mt\u001b[0m\u001b[0;34m\u001b[0m\u001b[0;34m\u001b[0m\u001b[0m\n",
      "\u001b[0;31mRuntimeError\u001b[0m: invalid size, possible overflow?"
     ]
    }
   ],
   "source": [
    "# Example 3 - breaking (to illustrate when it breaks)\n",
    "t = torch.arange(0, 5, 0.0000000000000000000000000000000000001)\n",
    "t"
   ]
  },
  {
   "cell_type": "markdown",
   "metadata": {},
   "source": [
    "Cannot accomodate for high precision like the example above."
   ]
  },
  {
   "cell_type": "markdown",
   "metadata": {},
   "source": [
    "This function can be used to initiate a 1D tensor with alll values within an interval."
   ]
  },
  {
   "cell_type": "markdown",
   "metadata": {},
   "source": [
    "## Conclusion\n",
    "\n",
    "By no means were these 5 functions the keystones to your Deep Learning endevours. But I think we're ready to start looking at linear models for Machine Learning - given at least this much knowledge and an ability to perform other inbetween manipulations."
   ]
  },
  {
   "cell_type": "markdown",
   "metadata": {},
   "source": [
    "## Reference Links\n",
    "Provide links to your references and other interesting articles about tensors\n",
    "* Official documentation for `torch.Tensor`: https://pytorch.org/docs/stable/tensors.html\n",
    "* Check out this blog for more on Matrices: https://jhui.github.io/2017/01/05/Deep-learning-linear-algebra/"
   ]
  },
  {
   "cell_type": "code",
   "execution_count": 28,
   "metadata": {},
   "outputs": [
    {
     "name": "stdout",
     "output_type": "stream",
     "text": [
      "\u001b[33mWARNING: You are using pip version 20.1; however, version 20.1.1 is available.\r\n",
      "You should consider upgrading via the '/opt/conda/bin/python3.7 -m pip install --upgrade pip' command.\u001b[0m\r\n"
     ]
    }
   ],
   "source": [
    "!pip install jovian --upgrade --quiet"
   ]
  },
  {
   "cell_type": "code",
   "execution_count": 29,
   "metadata": {},
   "outputs": [
    {
     "data": {
      "application/javascript": [
       "if (window.IPython && IPython.notebook.kernel) IPython.notebook.kernel.execute('jovian.utils.jupyter.get_notebook_name_saved = lambda: \"' + IPython.notebook.notebook_name + '\"')"
      ],
      "text/plain": [
       "<IPython.core.display.Javascript object>"
      ]
     },
     "metadata": {},
     "output_type": "display_data"
    }
   ],
   "source": [
    "import jovian"
   ]
  },
  {
   "cell_type": "code",
   "execution_count": null,
   "metadata": {},
   "outputs": [
    {
     "data": {
      "application/javascript": [
       "window.require && require([\"base/js/namespace\"],function(Jupyter){Jupyter.notebook.save_checkpoint()})"
      ],
      "text/plain": [
       "<IPython.core.display.Javascript object>"
      ]
     },
     "metadata": {},
     "output_type": "display_data"
    },
    {
     "name": "stdout",
     "output_type": "stream",
     "text": [
      "[jovian] Attempting to save notebook..\u001b[0m\n"
     ]
    }
   ],
   "source": [
    "jovian.commit(project='01-tensor-operations-4abc9', environment=None)"
   ]
  },
  {
   "cell_type": "code",
   "execution_count": null,
   "metadata": {},
   "outputs": [],
   "source": []
  }
 ],
 "metadata": {
  "kernelspec": {
   "display_name": "Python 3",
   "language": "python",
   "name": "python3"
  },
  "language_info": {
   "codemirror_mode": {
    "name": "ipython",
    "version": 3
   },
   "file_extension": ".py",
   "mimetype": "text/x-python",
   "name": "python",
   "nbconvert_exporter": "python",
   "pygments_lexer": "ipython3",
   "version": "3.6.4"
  }
 },
 "nbformat": 4,
 "nbformat_minor": 4
}
